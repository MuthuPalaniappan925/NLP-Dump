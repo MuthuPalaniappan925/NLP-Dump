{
  "nbformat": 4,
  "nbformat_minor": 0,
  "metadata": {
    "colab": {
      "provenance": []
    },
    "kernelspec": {
      "name": "python3",
      "display_name": "Python 3"
    },
    "language_info": {
      "name": "python"
    }
  },
  "cells": [
    {
      "cell_type": "markdown",
      "source": [
        "#Muthu Palaniappan M - 21011101079 NLP EX 1\n"
      ],
      "metadata": {
        "id": "hIjcQcAfRzuI"
      }
    },
    {
      "cell_type": "markdown",
      "source": [
        "## Importing Packages"
      ],
      "metadata": {
        "id": "whq424W_qLL-"
      }
    },
    {
      "cell_type": "code",
      "execution_count": 1,
      "metadata": {
        "id": "6lyw79aGk0Gn"
      },
      "outputs": [],
      "source": [
        "import nltk\n",
        "from nltk import ngrams\n",
        "from nltk.probability import FreqDist, ConditionalFreqDist\n",
        "from nltk.corpus import brown, movie_reviews, reuters"
      ]
    },
    {
      "cell_type": "markdown",
      "source": [
        "## Downloading the Packages"
      ],
      "metadata": {
        "id": "4v4ndxCjqPxx"
      }
    },
    {
      "cell_type": "code",
      "source": [
        "nltk.download(\"movie_reviews\")"
      ],
      "metadata": {
        "colab": {
          "base_uri": "https://localhost:8080/"
        },
        "id": "16rlWKBumVxc",
        "outputId": "a332fde6-8ca6-4329-f762-9bd0f3a98fc4"
      },
      "execution_count": 2,
      "outputs": [
        {
          "output_type": "stream",
          "name": "stderr",
          "text": [
            "[nltk_data] Downloading package movie_reviews to /root/nltk_data...\n",
            "[nltk_data]   Unzipping corpora/movie_reviews.zip.\n"
          ]
        },
        {
          "output_type": "execute_result",
          "data": {
            "text/plain": [
              "True"
            ]
          },
          "metadata": {},
          "execution_count": 2
        }
      ]
    },
    {
      "cell_type": "code",
      "source": [
        "nltk.download(\"reuters\")"
      ],
      "metadata": {
        "colab": {
          "base_uri": "https://localhost:8080/"
        },
        "id": "X62avOAzmV2G",
        "outputId": "ea50347a-4252-418c-b23d-7255a9d7ce05"
      },
      "execution_count": 3,
      "outputs": [
        {
          "output_type": "stream",
          "name": "stderr",
          "text": [
            "[nltk_data] Downloading package reuters to /root/nltk_data...\n"
          ]
        },
        {
          "output_type": "execute_result",
          "data": {
            "text/plain": [
              "True"
            ]
          },
          "metadata": {},
          "execution_count": 3
        }
      ]
    },
    {
      "cell_type": "code",
      "source": [
        "nltk.download('brown')"
      ],
      "metadata": {
        "colab": {
          "base_uri": "https://localhost:8080/"
        },
        "id": "iYshZTNvmTSY",
        "outputId": "edf981ad-1d5d-4be0-a05e-616554910a46"
      },
      "execution_count": 4,
      "outputs": [
        {
          "output_type": "stream",
          "name": "stderr",
          "text": [
            "[nltk_data] Downloading package brown to /root/nltk_data...\n",
            "[nltk_data]   Unzipping corpora/brown.zip.\n"
          ]
        },
        {
          "output_type": "execute_result",
          "data": {
            "text/plain": [
              "True"
            ]
          },
          "metadata": {},
          "execution_count": 4
        }
      ]
    },
    {
      "cell_type": "markdown",
      "source": [
        "## Data Points Curation for the better results"
      ],
      "metadata": {
        "id": "1iObwjP0vS8J"
      }
    },
    {
      "cell_type": "code",
      "source": [
        "ques_data = [\"Mr Patrick is our new principle\",\"The company excepted all the terms\",\"Please don't keep your dog on the lose\",\"The later is my best friend\",\"I need some stationary products for my craftwork\",\"The actor excepted the Oscar\",\"I will call you later in the evening\",\"Covid affects the lungs\",\"The council of the ministers were sworn in yesterday\",\"Robert too wants to accompany us to the park\",\"Mia will council me about choosing fashion as my career\", \"The bear at the zoo was very playful\",\"The sheep have a lot of fur that keeps them warm\",\"The hot spring is at the furthest corner of the street\",\"Can you advice me on how to study for exams\",\"The team will loose the match if they don't play well\",\"Can you go to the market for me\",\"The teachers asked the students to keep quite\", \"The heap of garbage should be cleaned immediately\",\"This is there house\",\"Mr Patrick is our new principal\",\"The company accepted all the terms\",\"Please don't keep your dog on the loose\",\"The latter is my best friend\",\"I need some stationery products for my craftwork\",\"The actor accepted the Oscar\",\"I will call you later in the evening\",\"Covid affects the lungs\",\"The council of the ministers were sworn in yesterday\",\"Robert too wants to accompany us to the park\",\"Mia will counsel me about choosing fashion as my career\", \"The bear at the zoo was very playful\",\"The sheep have a lot of fur that keeps them warm\",\"The hot spring is at the farthest corner of the street\",\"Can you advise me on how to study for exams\",\"The team will lose the match if they don't play wel.\",\"Can you go to the market for me\",\"The teachers asked the students to keep quiet\", \"The heap of garbage should be cleaned immediately\",\"This is their house\",\"Mr Patrick is our new principal\",\"The company accepted all the terms\",\"Please don't keep your dog on the loose\",\"The latter is my best friend\",\"I need some stationery products for my craftwork\",\"The actor accepted the Oscar\",\"I will call you later in the evening\",\"Covid affects the lungs\",\"The council of the ministers were sworn in yesterday\",\"Robert too wants to accompany us to the park\",\"Mia will counsel me about choosing fashion as my career\", \"The bear at the zoo was very playful\",\"The sheep have a lot of fur that keeps them warm\",\"The hot spring is at the farthest corner of the street\",\"Can you advise me on how to study for exams\",\"The team will lose the match if they don't play well\",\"Can you go to the market for me\",\"The teachers asked the students to keep quiet\", \"The heap of garbage should be cleaned immediately\",\"This is their house\"]\n",
        "\n",
        "ques_data.extend(ques_data)\n",
        "\n",
        "ques_words = []\n",
        "for i in ques_data:\n",
        "    ques_words.extend(i.split())"
      ],
      "metadata": {
        "id": "4ZtNofe1vSQe"
      },
      "execution_count": 5,
      "outputs": []
    },
    {
      "cell_type": "code",
      "source": [
        "len(ques_words)"
      ],
      "metadata": {
        "colab": {
          "base_uri": "https://localhost:8080/"
        },
        "id": "Txf-JMR3vaKe",
        "outputId": "c0ce69f8-6f10-463b-8567-6cc8586bff60"
      },
      "execution_count": 6,
      "outputs": [
        {
          "output_type": "execute_result",
          "data": {
            "text/plain": [
              "948"
            ]
          },
          "metadata": {},
          "execution_count": 6
        }
      ]
    },
    {
      "cell_type": "markdown",
      "source": [
        "## Helper Functions"
      ],
      "metadata": {
        "id": "318gIIwcqbea"
      }
    },
    {
      "cell_type": "code",
      "source": [
        "def generate_ngrams(text, n):\n",
        "    '''\n",
        "    Returns the n_grams for the text\n",
        "    Input Parameters\n",
        "    - text: (list) the vocab for the model\n",
        "    - n: (int) bi,tri,etc.. N-gram params\n",
        "    Returns\n",
        "    n_grams list\n",
        "    '''\n",
        "    n_grams = ngrams(text, n)\n",
        "    return n_grams"
      ],
      "metadata": {
        "id": "g05ALsSqlNaC"
      },
      "execution_count": 7,
      "outputs": []
    },
    {
      "cell_type": "code",
      "source": [
        "def build_ngram_model(tokens, n):\n",
        "    '''\n",
        "    Returns the\n",
        "    Conditional frequency\n",
        "    distributions are used to record the number of times each sample\n",
        "    occurred\n",
        "    Input Paramters\n",
        "    - tokens: (list) the vocab for the lm-model\n",
        "    - n: (int) bi and tri\n",
        "    Returns\n",
        "    ConditionalFreqDist\n",
        "    '''\n",
        "    n_grams = generate_ngrams(tokens,n)\n",
        "    if n == 3:\n",
        "      conditional_pairs = (((w0,w1),w2) for w0,w1,w2 in n_grams)\n",
        "    if n == 2:\n",
        "      conditional_pairs = n_grams\n",
        "    return nltk.ConditionalFreqDist(conditional_pairs)"
      ],
      "metadata": {
        "id": "FlWWAXuNldfz"
      },
      "execution_count": 8,
      "outputs": []
    },
    {
      "cell_type": "code",
      "source": [
        "def predict_next_word(model, context, word):\n",
        "    '''\n",
        "    Returns the next token based on the context with the help of lm-model CDF\n",
        "    Input Parameters\n",
        "    - model: (ConditionalFreqDist) Frequency Dict\n",
        "    - context: (str) Context to predict the next word\n",
        "    - word: (token) To predict\n",
        "    Returns\n",
        "    Probability value for the token (word) based on the context\n",
        "    '''\n",
        "    context_tuple = tuple(context.split())\n",
        "    #print(context_tuple)\n",
        "    if context_tuple in model and word in model[context_tuple]:\n",
        "        return model[context_tuple].freq(word)\n",
        "    else:\n",
        "        return 0.0"
      ],
      "metadata": {
        "id": "opXwEc8pnEOO"
      },
      "execution_count": 29,
      "outputs": []
    },
    {
      "cell_type": "markdown",
      "source": [
        "## Vocabulary Creation"
      ],
      "metadata": {
        "id": "OTTD3Y0QuE7S"
      }
    },
    {
      "cell_type": "code",
      "source": [
        "## Creating vocab based on different corpus -> Issue lack of tokens\n",
        "vocab = brown.words() + movie_reviews.words() + reuters.words() + ques_words\n",
        "print(f\"The length of the Vocabulary for the language Model: {len(vocab)}\")"
      ],
      "metadata": {
        "colab": {
          "base_uri": "https://localhost:8080/"
        },
        "id": "jqPExncfmPhB",
        "outputId": "e9d2d293-763f-44ea-eb98-627f141026a6"
      },
      "execution_count": 10,
      "outputs": [
        {
          "output_type": "stream",
          "name": "stdout",
          "text": [
            "The length of the Vocabulary for the language Model: 4466861\n"
          ]
        }
      ]
    },
    {
      "cell_type": "markdown",
      "source": [
        "## Model Building"
      ],
      "metadata": {
        "id": "TtDzSdISuZZm"
      }
    },
    {
      "cell_type": "code",
      "source": [
        "##Building model for the tri-grams settings\n",
        "tri_model = build_ngram_model(vocab,3)"
      ],
      "metadata": {
        "id": "-ecxbmlGmqO6"
      },
      "execution_count": 11,
      "outputs": []
    },
    {
      "cell_type": "code",
      "source": [
        "##Building mode for the uni-grams settings\n",
        "bi_model = build_ngram_model(vocab,2)"
      ],
      "metadata": {
        "id": "1M6Gpgki3UUv"
      },
      "execution_count": 12,
      "outputs": []
    },
    {
      "cell_type": "code",
      "source": [
        "## Getting the value for the bi-grams settings\n",
        "bi_model['to']"
      ],
      "metadata": {
        "colab": {
          "base_uri": "https://localhost:8080/"
        },
        "id": "tXXv8huK4QNH",
        "outputId": "9f75bf35-52dd-4f68-e6c1-9fceb6b6c416"
      },
      "execution_count": 13,
      "outputs": [
        {
          "output_type": "execute_result",
          "data": {
            "text/plain": [
              "FreqDist({'the': 8637, 'be': 5993, 'a': 2487, 'make': 1372, 'see': 1161, 'do': 1126, 'have': 1040, 'get': 989, 'take': 851, 'his': 736, ...})"
            ]
          },
          "metadata": {},
          "execution_count": 13
        }
      ]
    },
    {
      "cell_type": "code",
      "source": [
        "## Getting the value for the point based on the context\n",
        "tri_model[('to','the')].freq('point')"
      ],
      "metadata": {
        "colab": {
          "base_uri": "https://localhost:8080/"
        },
        "id": "5CL4CfDAm6Ju",
        "outputId": "aa82c637-70f3-4b0f-c0af-cd6a92fd9782"
      },
      "execution_count": 14,
      "outputs": [
        {
          "output_type": "execute_result",
          "data": {
            "text/plain": [
              "0.008220446914437884"
            ]
          },
          "metadata": {},
          "execution_count": 14
        }
      ]
    },
    {
      "cell_type": "code",
      "source": [
        "## Plotting the Values\n",
        "tri_model.plot(conditions=[(\"to\",\"the\")],samples=['flim',\"U\" ,'face',\"dollar\"])"
      ],
      "metadata": {
        "colab": {
          "base_uri": "https://localhost:8080/",
          "height": 492
        },
        "id": "lDLW8IWhpA1T",
        "outputId": "6406f578-78c4-4b1a-830a-babea5c93543"
      },
      "execution_count": 15,
      "outputs": [
        {
          "output_type": "display_data",
          "data": {
            "text/plain": [
              "<Figure size 640x480 with 1 Axes>"
            ],
            "image/png": "[encoded data removed]"
          },
          "metadata": {}
        },
        {
          "output_type": "execute_result",
          "data": {
            "text/plain": [
              "<Axes: xlabel='Samples', ylabel='Counts'>"
            ]
          },
          "metadata": {},
          "execution_count": 15
        }
      ]
    },
    {
      "cell_type": "code",
      "source": [
        "## Getting the most common words\n",
        "tri_model[(\"to\",\"the\")].most_common(3)"
      ],
      "metadata": {
        "colab": {
          "base_uri": "https://localhost:8080/"
        },
        "id": "oyvTxpxIpeo8",
        "outputId": "e50ef8d9-9d36-4ad7-d6ad-22f503f9f7eb"
      },
      "execution_count": 16,
      "outputs": [
        {
          "output_type": "execute_result",
          "data": {
            "text/plain": [
              "[('U', 131), ('film', 93), ('dollar', 75)]"
            ]
          },
          "metadata": {},
          "execution_count": 16
        }
      ]
    },
    {
      "cell_type": "markdown",
      "source": [
        "## Next Token Prediction"
      ],
      "metadata": {
        "id": "YWMDnyO93gQl"
      }
    },
    {
      "cell_type": "code",
      "source": [
        "tri_model[(\"our\",\"new\")]"
      ],
      "metadata": {
        "colab": {
          "base_uri": "https://localhost:8080/"
        },
        "id": "xzqlDTmdMSI8",
        "outputId": "ab4e1d92-fa81-4da8-f872-3c1b67585aad"
      },
      "execution_count": 18,
      "outputs": [
        {
          "output_type": "execute_result",
          "data": {
            "text/plain": [
              "FreqDist({'principal': 4, 'principle': 2, 'view': 1, 'presses': 1, 'Junior': 1, 'pool': 1, 'carts': 1, 'space': 1, 'plant': 1, 'bosom': 1, ...})"
            ]
          },
          "metadata": {},
          "execution_count": 18
        }
      ]
    },
    {
      "cell_type": "code",
      "source": [
        "context = \"our new\"\n",
        "word_1 = \"principal\"\n",
        "word_2 = \"principle\"\n",
        "cdf_1 = predict_next_word(tri_model,context,word_1)\n",
        "cdf_2 = predict_next_word(tri_model,context,word_2)\n",
        "\n",
        "if cdf_1 > cdf_2:\n",
        "  print(f\"{context} {word_1}\")\n",
        "\n",
        "else:\n",
        "  print(f\"{context} {word_2}\")"
      ],
      "metadata": {
        "colab": {
          "base_uri": "https://localhost:8080/"
        },
        "id": "2f--E_Z2n7Ce",
        "outputId": "68b72309-223e-49b7-8042-bbb1933a0d89"
      },
      "execution_count": 20,
      "outputs": [
        {
          "output_type": "stream",
          "name": "stdout",
          "text": [
            "our new principal\n"
          ]
        }
      ]
    },
    {
      "cell_type": "code",
      "source": [
        "tri_model[(\"lot\",\"of\")]"
      ],
      "metadata": {
        "colab": {
          "base_uri": "https://localhost:8080/"
        },
        "id": "OjvHG8CNMSLb",
        "outputId": "5c916c2c-6f23-448b-b5a0-baff60db698d"
      },
      "execution_count": 21,
      "outputs": [
        {
          "output_type": "execute_result",
          "data": {
            "text/plain": [
              "FreqDist({'fun': 35, 'the': 34, 'people': 31, 'money': 24, 'time': 12, 'sense': 7, 'it': 6, 'things': 6, 'fur': 6, 'good': 5, ...})"
            ]
          },
          "metadata": {},
          "execution_count": 21
        }
      ]
    },
    {
      "cell_type": "code",
      "source": [
        "##Predicting Outputs for tri-grams settings\n",
        "contexts = [\n",
        "    \"our new\",\n",
        "    \"The company\",\n",
        "    \"on the\",\n",
        "    \"need some\",\n",
        "    \"The actor\",\n",
        "    \"call you\",\n",
        "    \"Mia will\",\n",
        "    \"lot of\",\n",
        "    \"at the\",\n",
        "    \"Can you\",\n",
        "    \"team will\",\n",
        "    \"you go\",\n",
        "    \"to keep\",\n",
        "    \"This is\"\n",
        "]\n",
        "\n",
        "word_options_list = [\n",
        "    [\"principal\", \"principle\"],\n",
        "    [\"excepted\", \"accepted\"],\n",
        "    [\"lose\", \"loose\"],\n",
        "    [\"stationary\", \"stationery\"],\n",
        "    [\"excepted\", \"accepted\"],\n",
        "    [\"later\", \"latter\"],\n",
        "    [\"council\",\"counsel\"],\n",
        "    [\"council\",\"counsel\"],\n",
        "    [\"fur\", \"far\"],\n",
        "    [\"furthest\", \"farthest\"],\n",
        "    [\"advice\", \"advise\"],\n",
        "    [\"loose\", \"lose\"],\n",
        "    [\"to\", \"too\"],\n",
        "    [\"quite\", \"quiet\"],\n",
        "    [\"there\",\"their\"]\n",
        "]\n",
        "\n",
        "for context, word_options in zip(contexts, word_options_list):\n",
        "    cdf_1 = predict_next_word(tri_model,context,word_options[0])\n",
        "    cdf_2 = predict_next_word(tri_model,context,word_options[1])\n",
        "\n",
        "    if cdf_1 > cdf_2:\n",
        "      print(f\"{context} {word_options[0]}\")\n",
        "\n",
        "    else:\n",
        "      print(f\"{context} {word_options[1]}\")"
      ],
      "metadata": {
        "colab": {
          "base_uri": "https://localhost:8080/"
        },
        "id": "ZWpq-ciRMSOJ",
        "outputId": "eb7bf97b-9892-4ff1-82c4-4ab129e35b3f"
      },
      "execution_count": 32,
      "outputs": [
        {
          "output_type": "stream",
          "name": "stdout",
          "text": [
            "our new principal\n",
            "The company accepted\n",
            "on the loose\n",
            "need some stationery\n",
            "The actor accepted\n",
            "call you later\n",
            "Mia will counsel\n",
            "lot of counsel\n",
            "at the far\n",
            "Can you farthest\n",
            "team will advise\n",
            "you go lose\n",
            "to keep to\n",
            "This is quiet\n"
          ]
        }
      ]
    },
    {
      "cell_type": "code",
      "source": [
        "##Predicting output for unigrams settings\n",
        "contexts = [\n",
        "    \"The\",\n",
        "    \"Covid\",\n",
        "    \"The\",\n",
        "    \"Robert\",\n",
        "    \"The\",\n",
        "    \"The\"\n",
        "]\n",
        "\n",
        "word_options_list = [\n",
        "    [\"later\", \"latter\"],\n",
        "    [\"affects\", \"effects\"],\n",
        "    [\"council\", \"counsel\"],\n",
        "    [\"too\", \"to\"],\n",
        "    [\"bear\", \"bare\"],\n",
        "    [\"fur\", \"far\"],\n",
        "    [\"their\", \"there\"]\n",
        "]\n",
        "\n",
        "for context, word_options in zip(contexts, word_options_list):\n",
        "    cdf_1 = predict_next_word(bi_model,context,word_options[0])\n",
        "    cdf_2 = predict_next_word(bi_model,context,word_options[1])\n",
        "\n",
        "    if cdf_1 > cdf_2:\n",
        "      print(f\"{context} {word_options[0]}\")\n",
        "\n",
        "    else:\n",
        "      print(f\"{context} {word_options[1]}\")"
      ],
      "metadata": {
        "colab": {
          "base_uri": "https://localhost:8080/"
        },
        "id": "SSkk0457RGrQ",
        "outputId": "5e04accd-7b55-491f-e7e2-033ab2f45ed0"
      },
      "execution_count": 33,
      "outputs": [
        {
          "output_type": "stream",
          "name": "stdout",
          "text": [
            "The latter\n",
            "Covid effects\n",
            "The counsel\n",
            "Robert to\n",
            "The bare\n",
            "The far\n"
          ]
        }
      ]
    }
  ]
}