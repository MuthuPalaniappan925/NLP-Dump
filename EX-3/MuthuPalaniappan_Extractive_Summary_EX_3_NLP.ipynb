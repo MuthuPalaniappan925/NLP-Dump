{
 "cells": [
  {
   "cell_type": "markdown",
   "id": "c7f4580e",
   "metadata": {},
   "source": [
    "### Explain the pipeline for summarizing an input document by identifying informative sentences"
   ]
  },
  {
   "cell_type": "markdown",
   "id": "23a3cd25",
   "metadata": {},
   "source": [
    "- Sentence Pre-Processing\n",
    "- Feature representation -> (len(sentences),X) where X will vary from different text representation.\n",
    "- Calculate the distance metrics -> in my case \"cosine\"\n",
    "- Retrive N Sentences\n",
    "- Join the N sentences"
   ]
  },
  {
   "cell_type": "markdown",
   "id": "768e300e",
   "metadata": {},
   "source": [
    "### Importing Packages"
   ]
  },
  {
   "cell_type": "code",
   "execution_count": 201,
   "id": "a46a9154",
   "metadata": {},
   "outputs": [],
   "source": [
    "import numpy as np\n",
    "import nltk\n",
    "from nltk.tokenize import word_tokenize,sent_tokenize\n",
    "from sklearn.metrics.pairwise import cosine_similarity\n",
    "from heapq import nlargest\n",
    "from sklearn.feature_extraction.text import TfidfVectorizer\n",
    "import rouge\n",
    "from rouge import Rouge\n",
    "from sklearn.feature_extraction.text import CountVectorizer\n",
    "from gensim.models.word2vec import Word2Vec\n",
    "from gensim.models import KeyedVectors\n",
    "from gensim.models import FastText"
   ]
  },
  {
   "cell_type": "markdown",
   "id": "59a6ac75",
   "metadata": {},
   "source": [
    "### Text"
   ]
  },
  {
   "cell_type": "code",
   "execution_count": 2,
   "id": "6c14f62f",
   "metadata": {},
   "outputs": [],
   "source": [
    "text = '''\n",
    "Millions go missing at China bank\n",
    "Two senior officials at one of China's top commercial banks have reportedly disappeared after funds\n",
    "worth up to $120m (£64m) went missing.\n",
    "The pair both worked at Bank of China in the northern city of Harbin, the South China Morning Post\n",
    "reported. The latest scandal at Bank of China will do nothing to reassure foreign investors that China's\n",
    "big four banks are ready for international listings. Government policy sees the bank listings as vital\n",
    "economic reforms. Bank of China is one of two frontrunners in the race to list overseas. The other is\n",
    "China Construction Bank. Both are expected to list abroad during 2005.\n",
    "They shared a $45bn state bailout in 2003, to help clean up their balance sheets in preparation for a\n",
    "foreign stock market debut.\n",
    "However, a report in the China-published Economic Observer said on Monday that the two banks may\n",
    "have scrapped plans to list in New York because of the cost of meeting regulatory requirements\n",
    "imposed since the Enron scandal. Bank of China is the country's biggest foreign exchange dealer, while\n",
    "China Construction Bank is the largest deposit holder. China's banking sector is burdened with at least $190bn of bad debt according to official data, though most observers believe the true figure is far\n",
    "higher. Officially, one in five loans is not being repaid. Attempts to strengthen internal controls and\n",
    "tighten lending policies have uncovered a succession of scandals involving embezzlement by bank\n",
    "officials and loans-for-favours. The most high-profile case involved the ex-president of Bank of China,\n",
    "Wang Xuebing, jailed for 12 years in 2003. Although, he committed the offences whilst running Bank\n",
    "of China in New York, Mr.Wang was head of China Construction Bank when the scandal broke. Earlier\n",
    "this month, a China Construction Bank branch manager was jailed for life in a separate case.\n",
    "China's banks used to act as cash offices for state enterprises and did not require checks on credit\n",
    "worthiness. The introduction of market reforms has been accompanied by attempts to modernize the\n",
    "banking sector, but links between banks and local government remain strong. Last year, China's\n",
    "premier, Wen Jiabao, targeted bank lending practices in a series of speeches, and regulators ordered\n",
    "all big loans to be scrutinized, in an attempt to cool down irresponsible lending. China's leaders see\n",
    "reforming the top four banks as vital to distribute capital to profitable companies and protect the health\n",
    "of China's economic boom. But two problems persist. First, inefficient state enterprises continue to\n",
    "receive protection from bankruptcy because they employ large numbers of people. Second, many\n",
    "questionable loans come not from the big four, but from smaller banks. Another high-profile financial\n",
    "firm, China Life, is facing shareholder lawsuits and a probe by the US Securities and Exchange\n",
    "Commission following its 2004 New York listing over its failure to disclose accounting irregularities\n",
    "at its parent company.\n",
    "'''"
   ]
  },
  {
   "cell_type": "code",
   "execution_count": 11,
   "id": "09eb1ea2",
   "metadata": {},
   "outputs": [],
   "source": [
    "ref = '''\n",
    "The other is China Construction Bank. The latest scandal at Bank of China will do nothing to reassure\n",
    "foreign investors that China's big four banks are ready for international listings. Bank of China is the\n",
    "country's biggest foreign exchange dealer, while China Construction Bank is the largest deposit holder.\n",
    "Bank of China is one of two frontrunners in the race to list overseas. Although, he committed the\n",
    "offences whilst running Bank of China in New York, Mr.Wang was head of China Construction Bank\n",
    "when the scandal broke. Earlier this month, a China Construction Bank branch manager was jailed for\n",
    "life in a separate case. The pair both worked at Bank of China in the northern city of Harbin, the South\n",
    "China Morning Post reported. The most high-profile case involved the ex-president of Bank of China,\n",
    "Wang Xuebing, jailed for 12 years in 2003.Two senior officials at one of China's top commercial banks\n",
    "have reportedly disappeared after funds worth up to $120m (£64m) went missing. China’s banks used\n",
    "to act as cash offices for state enterprises and did not require checks on credit worthiness.'''"
   ]
  },
  {
   "cell_type": "markdown",
   "id": "88881775",
   "metadata": {},
   "source": [
    "### Skeleton Function - Generating Summary"
   ]
  },
  {
   "cell_type": "code",
   "execution_count": 61,
   "id": "4714d325",
   "metadata": {},
   "outputs": [],
   "source": [
    "def generate_summary(text,feature_matrix,n):\n",
    "    sentences = sent_tokenize(text)\n",
    "    sentence_scores = cosine_similarity(feature_matrix[-1], feature_matrix[:-1])[0]\n",
    "    print(sentence_scores)\n",
    "    summary_sentences = nlargest(n, range(len(sentence_scores)), key=sentence_scores.__getitem__)\n",
    "    summary = ' '.join([sentences[i] for i in sorted(summary_sentences)])\n",
    "    summary = summary.split('. ')\n",
    "    formatted_summary = '.\\n'.join(summary)\n",
    "    return formatted_summary"
   ]
  },
  {
   "cell_type": "markdown",
   "id": "04fead8b",
   "metadata": {},
   "source": [
    "### Skeleton Function -  Evaluation"
   ]
  },
  {
   "cell_type": "code",
   "execution_count": 62,
   "id": "db9f372a",
   "metadata": {},
   "outputs": [],
   "source": [
    "def calculate_score(ref,generated_summary):\n",
    "    rouge = Rouge()\n",
    "    scores = rouge.get_scores(ref,generated_summary)\n",
    "    score = scores[0]['rouge-1']['f']\n",
    "    return score"
   ]
  },
  {
   "cell_type": "markdown",
   "id": "69833115",
   "metadata": {},
   "source": [
    "### Bag of Words"
   ]
  },
  {
   "cell_type": "code",
   "execution_count": 63,
   "id": "12fa5376",
   "metadata": {},
   "outputs": [
    {
     "name": "stdout",
     "output_type": "stream",
     "text": [
      "Feature Representation Shape: (24, 272)\n"
     ]
    }
   ],
   "source": [
    "cv = CountVectorizer()\n",
    "count_matrix = cv.fit_transform(sent_tokenize(text))\n",
    "print(f\"Feature Representation Shape: {count_matrix.toarray().shape}\")"
   ]
  },
  {
   "cell_type": "code",
   "execution_count": 64,
   "id": "7e279d3a",
   "metadata": {},
   "outputs": [
    {
     "name": "stdout",
     "output_type": "stream",
     "text": [
      "[0.1278275  0.16329932 0.14617634 0.04714045 0.1490712  0.18257419\n",
      " 0.05270463 0.03108349 0.16381203 0.20082136 0.16903085 0.0496904\n",
      " 0.17888544 0.1490712  0.15569979 0.07698004 0.13679711 0.1754116\n",
      " 0.12253577 0.21773242 0.         0.03615508 0.0372678 ]\n"
     ]
    }
   ],
   "source": [
    "bow_summary = generate_summary(text,count_matrix,11)"
   ]
  },
  {
   "cell_type": "code",
   "execution_count": 65,
   "id": "9adccd8e",
   "metadata": {},
   "outputs": [
    {
     "data": {
      "text/plain": [
       "\"The pair both worked at Bank of China in the northern city of Harbin, the South China Morning Post\\nreported.\\nBank of China is one of two frontrunners in the race to list overseas.\\nThe other is\\nChina Construction Bank.\\nHowever, a report in the China-published Economic Observer said on Monday that the two banks may\\nhave scrapped plans to list in New York because of the cost of meeting regulatory requirements\\nimposed since the Enron scandal.\\nBank of China is the country's biggest foreign exchange dealer, while\\nChina Construction Bank is the largest deposit holder.\\nChina's banking sector is burdened with at least $190bn of bad debt according to official data, though most observers believe the true figure is far\\nhigher.\\nAttempts to strengthen internal controls and\\ntighten lending policies have uncovered a succession of scandals involving embezzlement by bank\\nofficials and loans-for-favours.\\nThe most high-profile case involved the ex-president of Bank of China,\\nWang Xuebing, jailed for 12 years in 2003.\\nAlthough, he committed the offences whilst running Bank\\nof China in New York, Mr.Wang was head of China Construction Bank when the scandal broke.\\nThe introduction of market reforms has been accompanied by attempts to modernize the\\nbanking sector, but links between banks and local government remain strong.\\nChina's leaders see\\nreforming the top four banks as vital to distribute capital to profitable companies and protect the health\\nof China's economic boom.\""
      ]
     },
     "execution_count": 65,
     "metadata": {},
     "output_type": "execute_result"
    }
   ],
   "source": [
    "bow_summary"
   ]
  },
  {
   "cell_type": "code",
   "execution_count": 46,
   "id": "376bd1cc",
   "metadata": {},
   "outputs": [
    {
     "name": "stdout",
     "output_type": "stream",
     "text": [
      "Rouge Score for BOW: 0.5441176421464101\n"
     ]
    }
   ],
   "source": [
    "bow_score = calculate_score(ref,bow_summary)\n",
    "print(f\"Rouge Score for BOW: {bow_score}\")"
   ]
  },
  {
   "cell_type": "markdown",
   "id": "80d7eac9",
   "metadata": {},
   "source": [
    "### TF-IDF"
   ]
  },
  {
   "cell_type": "code",
   "execution_count": 66,
   "id": "62c563bc",
   "metadata": {},
   "outputs": [
    {
     "name": "stdout",
     "output_type": "stream",
     "text": [
      "Feature Representation Shape: (24, 209)\n"
     ]
    }
   ],
   "source": [
    "tfidf = TfidfVectorizer(stop_words='english')\n",
    "tfidf_matrix = tfidf.fit_transform(sent_tokenize(text))\n",
    "print(f\"Feature Representation Shape: {tfidf_matrix.shape}\")"
   ]
  },
  {
   "cell_type": "code",
   "execution_count": 70,
   "id": "cfd6bd84",
   "metadata": {},
   "outputs": [
    {
     "name": "stdout",
     "output_type": "stream",
     "text": [
      "[0.01808131 0.02302645 0.02416757 0.         0.0180305  0.03742863\n",
      " 0.         0.         0.07669682 0.07806186 0.00943394 0.\n",
      " 0.         0.11211433 0.1018688  0.0711365  0.01093595 0.\n",
      " 0.00837097 0.02138517 0.         0.         0.        ]\n"
     ]
    }
   ],
   "source": [
    "tf_idf_summary = generate_summary(text,tfidf_matrix,10)"
   ]
  },
  {
   "cell_type": "code",
   "execution_count": 71,
   "id": "8d2b7b3d",
   "metadata": {},
   "outputs": [
    {
     "data": {
      "text/plain": [
       "\"\\nMillions go missing at China bank\\nTwo senior officials at one of China's top commercial banks have reportedly disappeared after funds\\nworth up to $120m (£64m) went missing.\\nThe pair both worked at Bank of China in the northern city of Harbin, the South China Morning Post\\nreported.\\nThe latest scandal at Bank of China will do nothing to reassure foreign investors that China's\\nbig four banks are ready for international listings.\\nThe other is\\nChina Construction Bank.\\nHowever, a report in the China-published Economic Observer said on Monday that the two banks may\\nhave scrapped plans to list in New York because of the cost of meeting regulatory requirements\\nimposed since the Enron scandal.\\nBank of China is the country's biggest foreign exchange dealer, while\\nChina Construction Bank is the largest deposit holder.\\nThe most high-profile case involved the ex-president of Bank of China,\\nWang Xuebing, jailed for 12 years in 2003.\\nAlthough, he committed the offences whilst running Bank\\nof China in New York, Mr.Wang was head of China Construction Bank when the scandal broke.\\nEarlier\\nthis month, a China Construction Bank branch manager was jailed for life in a separate case.\\nChina's leaders see\\nreforming the top four banks as vital to distribute capital to profitable companies and protect the health\\nof China's economic boom.\""
      ]
     },
     "execution_count": 71,
     "metadata": {},
     "output_type": "execute_result"
    }
   ],
   "source": [
    "tf_idf_summary"
   ]
  },
  {
   "cell_type": "code",
   "execution_count": 72,
   "id": "8b36a631",
   "metadata": {},
   "outputs": [
    {
     "name": "stdout",
     "output_type": "stream",
     "text": [
      "Rouge Score for TF-IDF: 0.8031496013243228\n"
     ]
    }
   ],
   "source": [
    "tf_idf_score = calculate_score(ref,tf_idf_summary)\n",
    "print(f\"Rouge Score for TF-IDF: {tf_idf_score}\")"
   ]
  },
  {
   "cell_type": "markdown",
   "id": "c9e79d7c",
   "metadata": {},
   "source": [
    "### CBOW"
   ]
  },
  {
   "cell_type": "code",
   "execution_count": 76,
   "id": "da585492",
   "metadata": {},
   "outputs": [],
   "source": [
    "from nltk.corpus import stopwords"
   ]
  },
  {
   "cell_type": "code",
   "execution_count": 84,
   "id": "3b864fd3",
   "metadata": {},
   "outputs": [],
   "source": [
    "new_text = \"\"\n",
    "for i in word_tokenize(text):\n",
    "    if i not in stopwords.words('english'):\n",
    "        new_text+=i\n",
    "        new_text+=\" \""
   ]
  },
  {
   "cell_type": "code",
   "execution_count": 133,
   "id": "6407cd47",
   "metadata": {},
   "outputs": [
    {
     "data": {
      "text/plain": [
       "\"Millions go missing China bank Two senior officials one China 's top commercial banks reportedly disappeared funds worth $ 120m ( £64m ) went missing . The pair worked Bank China northern city Harbin , South China Morning Post reported . The latest scandal Bank China nothing reassure foreign investors China's big four banks ready international listings . Government policy sees bank listings vital economic reforms . Bank China one two frontrunners race list overseas . The China Construction Bank . Both expected list abroad 2005 . They shared $ 45bn state bailout 2003 , help clean balance sheets preparation foreign stock market debut . However , report China-published Economic Observer said Monday two banks may scrapped plans list New York cost meeting regulatory requirements imposed since Enron scandal . Bank China country 's biggest foreign exchange dealer , China Construction Bank largest deposit holder . China 's banking sector burdened least $ 190bn bad debt according official data , though observers believe true figure far higher . Officially , one five loans repaid . Attempts strengthen internal controls tighten lending policies uncovered succession scandals involving embezzlement bank officials loans-for-favours . The high-profile case involved ex-president Bank China , Wang Xuebing , jailed 12 years 2003 . Although , committed offences whilst running Bank China New York , Mr.Wang head China Construction Bank scandal broke . Earlier month , China Construction Bank branch manager jailed life separate case . China 's banks used act cash offices state enterprises require checks credit worthiness . The introduction market reforms accompanied attempts modernize banking sector , links banks local government remain strong . Last year , China's premier , Wen Jiabao , targeted bank lending practices series speeches , regulators ordered big loans scrutinized , attempt cool irresponsible lending . China 's leaders see reforming top four banks vital distribute capital profitable companies protect health China 's economic boom . But two problems persist . First , inefficient state enterprises continue receive protection bankruptcy employ large numbers people . Second , many questionable loans come big four , smaller banks . Another high-profile financial firm , China Life , facing shareholder lawsuits probe US Securities Exchange Commission following 2004 New York listing failure disclose accounting irregularities parent company . \""
      ]
     },
     "execution_count": 133,
     "metadata": {},
     "output_type": "execute_result"
    }
   ],
   "source": [
    "new_text"
   ]
  },
  {
   "cell_type": "code",
   "execution_count": 134,
   "id": "578cda9f",
   "metadata": {},
   "outputs": [],
   "source": [
    "cbow = Word2Vec(sent_tokenize(new_text),vector_size=100, window=5, min_count=2, sg=0)\n",
    "vocab = cbow.wv.index_to_key"
   ]
  },
  {
   "cell_type": "code",
   "execution_count": 135,
   "id": "27fab596",
   "metadata": {},
   "outputs": [],
   "source": [
    "def get_mean_vector(model, sentence):\n",
    "    words = [word for word in sentence if word in vocab]\n",
    "    if len(words) >= 1:\n",
    "        return np.mean(model.wv[words], axis=0)\n",
    "    return np.zeros((100,))\n",
    "\n",
    "cbow_array = []\n",
    "for sentence in sent_tokenize(new_text):\n",
    "    cbow_array.append(get_mean_vector(cbow, sentence))\n",
    "    \n",
    "cbow_array = np.array(cbow_array)"
   ]
  },
  {
   "cell_type": "code",
   "execution_count": 136,
   "id": "2f6ccef6",
   "metadata": {},
   "outputs": [
    {
     "data": {
      "text/plain": [
       "array([[-0.04307085,  0.10969687,  0.07576666, ..., -0.04627705,\n",
       "         0.01084443,  0.06344573],\n",
       "       [-0.04334157,  0.10959181,  0.075415  , ..., -0.04616618,\n",
       "         0.0106557 ,  0.06139551],\n",
       "       [-0.04584682,  0.11412003,  0.07764191, ..., -0.04829001,\n",
       "         0.01143149,  0.06503487],\n",
       "       ...,\n",
       "       [-0.04625217,  0.11476665,  0.07962143, ..., -0.0478877 ,\n",
       "         0.01082776,  0.06479122],\n",
       "       [-0.04383902,  0.10899606,  0.07642557, ..., -0.04628872,\n",
       "         0.01152076,  0.0643066 ],\n",
       "       [-0.04307276,  0.10840796,  0.07429051, ..., -0.04578514,\n",
       "         0.01045212,  0.06130365]], dtype=float32)"
      ]
     },
     "execution_count": 136,
     "metadata": {},
     "output_type": "execute_result"
    }
   ],
   "source": [
    "cbow_array"
   ]
  },
  {
   "cell_type": "code",
   "execution_count": 137,
   "id": "271d47f4",
   "metadata": {},
   "outputs": [
    {
     "data": {
      "text/plain": [
       "(24, 100)"
      ]
     },
     "execution_count": 137,
     "metadata": {},
     "output_type": "execute_result"
    }
   ],
   "source": [
    "cbow_array.shape"
   ]
  },
  {
   "cell_type": "code",
   "execution_count": 138,
   "id": "754f2c69",
   "metadata": {},
   "outputs": [
    {
     "data": {
      "text/html": [
       "<style>#sk-container-id-2 {color: black;}#sk-container-id-2 pre{padding: 0;}#sk-container-id-2 div.sk-toggleable {background-color: white;}#sk-container-id-2 label.sk-toggleable__label {cursor: pointer;display: block;width: 100%;margin-bottom: 0;padding: 0.3em;box-sizing: border-box;text-align: center;}#sk-container-id-2 label.sk-toggleable__label-arrow:before {content: \"▸\";float: left;margin-right: 0.25em;color: #696969;}#sk-container-id-2 label.sk-toggleable__label-arrow:hover:before {color: black;}#sk-container-id-2 div.sk-estimator:hover label.sk-toggleable__label-arrow:before {color: black;}#sk-container-id-2 div.sk-toggleable__content {max-height: 0;max-width: 0;overflow: hidden;text-align: left;background-color: #f0f8ff;}#sk-container-id-2 div.sk-toggleable__content pre {margin: 0.2em;color: black;border-radius: 0.25em;background-color: #f0f8ff;}#sk-container-id-2 input.sk-toggleable__control:checked~div.sk-toggleable__content {max-height: 200px;max-width: 100%;overflow: auto;}#sk-container-id-2 input.sk-toggleable__control:checked~label.sk-toggleable__label-arrow:before {content: \"▾\";}#sk-container-id-2 div.sk-estimator input.sk-toggleable__control:checked~label.sk-toggleable__label {background-color: #d4ebff;}#sk-container-id-2 div.sk-label input.sk-toggleable__control:checked~label.sk-toggleable__label {background-color: #d4ebff;}#sk-container-id-2 input.sk-hidden--visually {border: 0;clip: rect(1px 1px 1px 1px);clip: rect(1px, 1px, 1px, 1px);height: 1px;margin: -1px;overflow: hidden;padding: 0;position: absolute;width: 1px;}#sk-container-id-2 div.sk-estimator {font-family: monospace;background-color: #f0f8ff;border: 1px dotted black;border-radius: 0.25em;box-sizing: border-box;margin-bottom: 0.5em;}#sk-container-id-2 div.sk-estimator:hover {background-color: #d4ebff;}#sk-container-id-2 div.sk-parallel-item::after {content: \"\";width: 100%;border-bottom: 1px solid gray;flex-grow: 1;}#sk-container-id-2 div.sk-label:hover label.sk-toggleable__label {background-color: #d4ebff;}#sk-container-id-2 div.sk-serial::before {content: \"\";position: absolute;border-left: 1px solid gray;box-sizing: border-box;top: 0;bottom: 0;left: 50%;z-index: 0;}#sk-container-id-2 div.sk-serial {display: flex;flex-direction: column;align-items: center;background-color: white;padding-right: 0.2em;padding-left: 0.2em;position: relative;}#sk-container-id-2 div.sk-item {position: relative;z-index: 1;}#sk-container-id-2 div.sk-parallel {display: flex;align-items: stretch;justify-content: center;background-color: white;position: relative;}#sk-container-id-2 div.sk-item::before, #sk-container-id-2 div.sk-parallel-item::before {content: \"\";position: absolute;border-left: 1px solid gray;box-sizing: border-box;top: 0;bottom: 0;left: 50%;z-index: -1;}#sk-container-id-2 div.sk-parallel-item {display: flex;flex-direction: column;z-index: 1;position: relative;background-color: white;}#sk-container-id-2 div.sk-parallel-item:first-child::after {align-self: flex-end;width: 50%;}#sk-container-id-2 div.sk-parallel-item:last-child::after {align-self: flex-start;width: 50%;}#sk-container-id-2 div.sk-parallel-item:only-child::after {width: 0;}#sk-container-id-2 div.sk-dashed-wrapped {border: 1px dashed gray;margin: 0 0.4em 0.5em 0.4em;box-sizing: border-box;padding-bottom: 0.4em;background-color: white;}#sk-container-id-2 div.sk-label label {font-family: monospace;font-weight: bold;display: inline-block;line-height: 1.2em;}#sk-container-id-2 div.sk-label-container {text-align: center;}#sk-container-id-2 div.sk-container {/* jupyter's `normalize.less` sets `[hidden] { display: none; }` but bootstrap.min.css set `[hidden] { display: none !important; }` so we also need the `!important` here to be able to override the default hidden behavior on the sphinx rendered scikit-learn.org. See: https://github.com/scikit-learn/scikit-learn/issues/21755 */display: inline-block !important;position: relative;}#sk-container-id-2 div.sk-text-repr-fallback {display: none;}</style><div id=\"sk-container-id-2\" class=\"sk-top-container\"><div class=\"sk-text-repr-fallback\"><pre>NearestNeighbors(algorithm=&#x27;brute&#x27;, metric=&#x27;cosine&#x27;, n_jobs=-1, n_neighbors=10)</pre><b>In a Jupyter environment, please rerun this cell to show the HTML representation or trust the notebook. <br />On GitHub, the HTML representation is unable to render, please try loading this page with nbviewer.org.</b></div><div class=\"sk-container\" hidden><div class=\"sk-item\"><div class=\"sk-estimator sk-toggleable\"><input class=\"sk-toggleable__control sk-hidden--visually\" id=\"sk-estimator-id-2\" type=\"checkbox\" checked><label for=\"sk-estimator-id-2\" class=\"sk-toggleable__label sk-toggleable__label-arrow\">NearestNeighbors</label><div class=\"sk-toggleable__content\"><pre>NearestNeighbors(algorithm=&#x27;brute&#x27;, metric=&#x27;cosine&#x27;, n_jobs=-1, n_neighbors=10)</pre></div></div></div></div></div>"
      ],
      "text/plain": [
       "NearestNeighbors(algorithm='brute', metric='cosine', n_jobs=-1, n_neighbors=10)"
      ]
     },
     "execution_count": 138,
     "metadata": {},
     "output_type": "execute_result"
    }
   ],
   "source": [
    "from sklearn.neighbors import NearestNeighbors\n",
    "model = NearestNeighbors(n_neighbors=10,\n",
    "                         metric='cosine',\n",
    "                         algorithm='brute',\n",
    "                         n_jobs=-1)\n",
    "model.fit(cbow_array)"
   ]
  },
  {
   "cell_type": "code",
   "execution_count": 139,
   "id": "e3a20a67",
   "metadata": {},
   "outputs": [],
   "source": [
    "distances, indices = model.kneighbors(cbow_array)"
   ]
  },
  {
   "cell_type": "code",
   "execution_count": 140,
   "id": "d7e61d36",
   "metadata": {},
   "outputs": [],
   "source": [
    "extractive_summary = []\n",
    "\n",
    "for i in range(len(cbow_array)):\n",
    "    neighbors_indices = indices[i][1:]  # Exclude the document itself\n",
    "    summary_embedding = np.mean(cbow_array[neighbors_indices], axis=0)\n",
    "    extractive_summary.append(summary_embedding)\n",
    "\n",
    "extractive_summary = np.array(extractive_summary)"
   ]
  },
  {
   "cell_type": "code",
   "execution_count": 141,
   "id": "5535e9b2",
   "metadata": {},
   "outputs": [],
   "source": [
    "top_10_summaries_indices = np.argsort(distances.sum(axis=1))[:10]\n",
    "top_10_summaries = extractive_summary[top_10_summaries_indices]"
   ]
  },
  {
   "cell_type": "code",
   "execution_count": 142,
   "id": "d4458293",
   "metadata": {},
   "outputs": [
    {
     "data": {
      "text/plain": [
       "array([19,  9,  8, 18, 17, 10, 23, 15,  0, 14], dtype=int64)"
      ]
     },
     "execution_count": 142,
     "metadata": {},
     "output_type": "execute_result"
    }
   ],
   "source": [
    "top_10_summaries_indices"
   ]
  },
  {
   "cell_type": "code",
   "execution_count": 143,
   "id": "711da38c",
   "metadata": {},
   "outputs": [],
   "source": [
    "top_10_sentences = [sent_tokenize(new_text)[index] for index in top_10_summaries_indices]"
   ]
  },
  {
   "cell_type": "code",
   "execution_count": 144,
   "id": "175ea777",
   "metadata": {},
   "outputs": [
    {
     "data": {
      "text/plain": [
       "[\"China 's leaders see reforming top four banks vital distribute capital profitable companies protect health China 's economic boom .\",\n",
       " \"Bank China country 's biggest foreign exchange dealer , China Construction Bank largest deposit holder .\",\n",
       " 'However , report China-published Economic Observer said Monday two banks may scrapped plans list New York cost meeting regulatory requirements imposed since Enron scandal .',\n",
       " \"Last year , China's premier , Wen Jiabao , targeted bank lending practices series speeches , regulators ordered big loans scrutinized , attempt cool irresponsible lending .\",\n",
       " 'The introduction market reforms accompanied attempts modernize banking sector , links banks local government remain strong .',\n",
       " \"China 's banking sector burdened least $ 190bn bad debt according official data , though observers believe true figure far higher .\",\n",
       " 'Another high-profile financial firm , China Life , facing shareholder lawsuits probe US Securities Exchange Commission following 2004 New York listing failure disclose accounting irregularities parent company .',\n",
       " 'Earlier month , China Construction Bank branch manager jailed life separate case .',\n",
       " \"Millions go missing China bank Two senior officials one China 's top commercial banks reportedly disappeared funds worth $ 120m ( £64m ) went missing .\",\n",
       " 'Although , committed offences whilst running Bank China New York , Mr.Wang head China Construction Bank scandal broke .']"
      ]
     },
     "execution_count": 144,
     "metadata": {},
     "output_type": "execute_result"
    }
   ],
   "source": [
    "top_10_sentences"
   ]
  },
  {
   "cell_type": "code",
   "execution_count": 145,
   "id": "34ead9dc",
   "metadata": {},
   "outputs": [
    {
     "data": {
      "text/plain": [
       "[0, 8, 9, 10, 14, 15, 17, 18, 19, 23]"
      ]
     },
     "execution_count": 145,
     "metadata": {},
     "output_type": "execute_result"
    }
   ],
   "source": [
    "sorted(top_10_summaries_indices)"
   ]
  },
  {
   "cell_type": "code",
   "execution_count": 146,
   "id": "479bf398",
   "metadata": {},
   "outputs": [],
   "source": [
    "cbow_summary = ' '.join([sent_tokenize(new_text)[i] for i in sorted(top_10_summaries_indices)])"
   ]
  },
  {
   "cell_type": "code",
   "execution_count": 147,
   "id": "d8914ea7",
   "metadata": {},
   "outputs": [
    {
     "data": {
      "text/plain": [
       "\"Millions go missing China bank Two senior officials one China 's top commercial banks reportedly disappeared funds worth $ 120m ( £64m ) went missing . However , report China-published Economic Observer said Monday two banks may scrapped plans list New York cost meeting regulatory requirements imposed since Enron scandal . Bank China country 's biggest foreign exchange dealer , China Construction Bank largest deposit holder . China 's banking sector burdened least $ 190bn bad debt according official data , though observers believe true figure far higher . Although , committed offences whilst running Bank China New York , Mr.Wang head China Construction Bank scandal broke . Earlier month , China Construction Bank branch manager jailed life separate case . The introduction market reforms accompanied attempts modernize banking sector , links banks local government remain strong . Last year , China's premier , Wen Jiabao , targeted bank lending practices series speeches , regulators ordered big loans scrutinized , attempt cool irresponsible lending . China 's leaders see reforming top four banks vital distribute capital profitable companies protect health China 's economic boom . Another high-profile financial firm , China Life , facing shareholder lawsuits probe US Securities Exchange Commission following 2004 New York listing failure disclose accounting irregularities parent company .\""
      ]
     },
     "execution_count": 147,
     "metadata": {},
     "output_type": "execute_result"
    }
   ],
   "source": [
    "cbow_summary"
   ]
  },
  {
   "cell_type": "markdown",
   "id": "257dfe68",
   "metadata": {},
   "source": [
    "### Skipgram"
   ]
  },
  {
   "cell_type": "code",
   "execution_count": 152,
   "id": "69884e84",
   "metadata": {},
   "outputs": [],
   "source": [
    "sg = Word2Vec(sent_tokenize(new_text), vector_size=100, window=5, min_count=2, sg=1)\n",
    "vocab = sg.wv.index_to_key\n",
    "\n",
    "def get_mean_vector(model, sentence):\n",
    "    words = [word for word in sentence if word in vocab]\n",
    "    if len(words) >= 1:\n",
    "        return np.mean(model.wv[words], axis=0)\n",
    "    return np.zeros((100,))\n",
    "\n",
    "sg_array = []\n",
    "for sentence in sent_tokenize(new_text):\n",
    "    sg_array.append(get_mean_vector(sg, sentence))\n",
    "\n",
    "sg_array = np.array(sg_array)"
   ]
  },
  {
   "cell_type": "code",
   "execution_count": 154,
   "id": "e2e8f78f",
   "metadata": {},
   "outputs": [
    {
     "data": {
      "text/plain": [
       "(24, 100)"
      ]
     },
     "execution_count": 154,
     "metadata": {},
     "output_type": "execute_result"
    }
   ],
   "source": [
    "sg_array.shape"
   ]
  },
  {
   "cell_type": "code",
   "execution_count": 155,
   "id": "cce3c884",
   "metadata": {},
   "outputs": [
    {
     "data": {
      "text/html": [
       "<style>#sk-container-id-3 {color: black;}#sk-container-id-3 pre{padding: 0;}#sk-container-id-3 div.sk-toggleable {background-color: white;}#sk-container-id-3 label.sk-toggleable__label {cursor: pointer;display: block;width: 100%;margin-bottom: 0;padding: 0.3em;box-sizing: border-box;text-align: center;}#sk-container-id-3 label.sk-toggleable__label-arrow:before {content: \"▸\";float: left;margin-right: 0.25em;color: #696969;}#sk-container-id-3 label.sk-toggleable__label-arrow:hover:before {color: black;}#sk-container-id-3 div.sk-estimator:hover label.sk-toggleable__label-arrow:before {color: black;}#sk-container-id-3 div.sk-toggleable__content {max-height: 0;max-width: 0;overflow: hidden;text-align: left;background-color: #f0f8ff;}#sk-container-id-3 div.sk-toggleable__content pre {margin: 0.2em;color: black;border-radius: 0.25em;background-color: #f0f8ff;}#sk-container-id-3 input.sk-toggleable__control:checked~div.sk-toggleable__content {max-height: 200px;max-width: 100%;overflow: auto;}#sk-container-id-3 input.sk-toggleable__control:checked~label.sk-toggleable__label-arrow:before {content: \"▾\";}#sk-container-id-3 div.sk-estimator input.sk-toggleable__control:checked~label.sk-toggleable__label {background-color: #d4ebff;}#sk-container-id-3 div.sk-label input.sk-toggleable__control:checked~label.sk-toggleable__label {background-color: #d4ebff;}#sk-container-id-3 input.sk-hidden--visually {border: 0;clip: rect(1px 1px 1px 1px);clip: rect(1px, 1px, 1px, 1px);height: 1px;margin: -1px;overflow: hidden;padding: 0;position: absolute;width: 1px;}#sk-container-id-3 div.sk-estimator {font-family: monospace;background-color: #f0f8ff;border: 1px dotted black;border-radius: 0.25em;box-sizing: border-box;margin-bottom: 0.5em;}#sk-container-id-3 div.sk-estimator:hover {background-color: #d4ebff;}#sk-container-id-3 div.sk-parallel-item::after {content: \"\";width: 100%;border-bottom: 1px solid gray;flex-grow: 1;}#sk-container-id-3 div.sk-label:hover label.sk-toggleable__label {background-color: #d4ebff;}#sk-container-id-3 div.sk-serial::before {content: \"\";position: absolute;border-left: 1px solid gray;box-sizing: border-box;top: 0;bottom: 0;left: 50%;z-index: 0;}#sk-container-id-3 div.sk-serial {display: flex;flex-direction: column;align-items: center;background-color: white;padding-right: 0.2em;padding-left: 0.2em;position: relative;}#sk-container-id-3 div.sk-item {position: relative;z-index: 1;}#sk-container-id-3 div.sk-parallel {display: flex;align-items: stretch;justify-content: center;background-color: white;position: relative;}#sk-container-id-3 div.sk-item::before, #sk-container-id-3 div.sk-parallel-item::before {content: \"\";position: absolute;border-left: 1px solid gray;box-sizing: border-box;top: 0;bottom: 0;left: 50%;z-index: -1;}#sk-container-id-3 div.sk-parallel-item {display: flex;flex-direction: column;z-index: 1;position: relative;background-color: white;}#sk-container-id-3 div.sk-parallel-item:first-child::after {align-self: flex-end;width: 50%;}#sk-container-id-3 div.sk-parallel-item:last-child::after {align-self: flex-start;width: 50%;}#sk-container-id-3 div.sk-parallel-item:only-child::after {width: 0;}#sk-container-id-3 div.sk-dashed-wrapped {border: 1px dashed gray;margin: 0 0.4em 0.5em 0.4em;box-sizing: border-box;padding-bottom: 0.4em;background-color: white;}#sk-container-id-3 div.sk-label label {font-family: monospace;font-weight: bold;display: inline-block;line-height: 1.2em;}#sk-container-id-3 div.sk-label-container {text-align: center;}#sk-container-id-3 div.sk-container {/* jupyter's `normalize.less` sets `[hidden] { display: none; }` but bootstrap.min.css set `[hidden] { display: none !important; }` so we also need the `!important` here to be able to override the default hidden behavior on the sphinx rendered scikit-learn.org. See: https://github.com/scikit-learn/scikit-learn/issues/21755 */display: inline-block !important;position: relative;}#sk-container-id-3 div.sk-text-repr-fallback {display: none;}</style><div id=\"sk-container-id-3\" class=\"sk-top-container\"><div class=\"sk-text-repr-fallback\"><pre>NearestNeighbors(algorithm=&#x27;brute&#x27;, metric=&#x27;cosine&#x27;, n_jobs=-1, n_neighbors=10)</pre><b>In a Jupyter environment, please rerun this cell to show the HTML representation or trust the notebook. <br />On GitHub, the HTML representation is unable to render, please try loading this page with nbviewer.org.</b></div><div class=\"sk-container\" hidden><div class=\"sk-item\"><div class=\"sk-estimator sk-toggleable\"><input class=\"sk-toggleable__control sk-hidden--visually\" id=\"sk-estimator-id-3\" type=\"checkbox\" checked><label for=\"sk-estimator-id-3\" class=\"sk-toggleable__label sk-toggleable__label-arrow\">NearestNeighbors</label><div class=\"sk-toggleable__content\"><pre>NearestNeighbors(algorithm=&#x27;brute&#x27;, metric=&#x27;cosine&#x27;, n_jobs=-1, n_neighbors=10)</pre></div></div></div></div></div>"
      ],
      "text/plain": [
       "NearestNeighbors(algorithm='brute', metric='cosine', n_jobs=-1, n_neighbors=10)"
      ]
     },
     "execution_count": 155,
     "metadata": {},
     "output_type": "execute_result"
    }
   ],
   "source": [
    "from sklearn.neighbors import NearestNeighbors\n",
    "model = NearestNeighbors(n_neighbors=10,\n",
    "                         metric='cosine',\n",
    "                         algorithm='brute',\n",
    "                         n_jobs=-1)\n",
    "model.fit(sg_array)"
   ]
  },
  {
   "cell_type": "code",
   "execution_count": 156,
   "id": "84850e40",
   "metadata": {},
   "outputs": [],
   "source": [
    "distances, indices = model.kneighbors(sg_array)"
   ]
  },
  {
   "cell_type": "code",
   "execution_count": 157,
   "id": "eff6bc37",
   "metadata": {},
   "outputs": [],
   "source": [
    "extractive_summary = []\n",
    "\n",
    "for i in range(len(sg_array)):\n",
    "    neighbors_indices = indices[i][1:]  # Exclude the document itself\n",
    "    summary_embedding = np.mean(sg_array[neighbors_indices], axis=0)\n",
    "    extractive_summary.append(summary_embedding)\n",
    "\n",
    "extractive_summary = np.array(extractive_summary)"
   ]
  },
  {
   "cell_type": "code",
   "execution_count": 158,
   "id": "1c75b123",
   "metadata": {},
   "outputs": [],
   "source": [
    "top_10_summaries_indices = np.argsort(distances.sum(axis=1))[:10]\n",
    "top_10_summaries = extractive_summary[top_10_summaries_indices]"
   ]
  },
  {
   "cell_type": "code",
   "execution_count": 159,
   "id": "76ce7cd6",
   "metadata": {},
   "outputs": [],
   "source": [
    "top_10_sentences = [sent_tokenize(new_text)[index] for index in top_10_summaries_indices]"
   ]
  },
  {
   "cell_type": "code",
   "execution_count": 160,
   "id": "1badd7d2",
   "metadata": {},
   "outputs": [
    {
     "data": {
      "text/plain": [
       "[\"China 's leaders see reforming top four banks vital distribute capital profitable companies protect health China 's economic boom .\",\n",
       " \"Bank China country 's biggest foreign exchange dealer , China Construction Bank largest deposit holder .\",\n",
       " 'However , report China-published Economic Observer said Monday two banks may scrapped plans list New York cost meeting regulatory requirements imposed since Enron scandal .',\n",
       " \"Last year , China's premier , Wen Jiabao , targeted bank lending practices series speeches , regulators ordered big loans scrutinized , attempt cool irresponsible lending .\",\n",
       " 'The introduction market reforms accompanied attempts modernize banking sector , links banks local government remain strong .',\n",
       " \"China 's banking sector burdened least $ 190bn bad debt according official data , though observers believe true figure far higher .\",\n",
       " 'Another high-profile financial firm , China Life , facing shareholder lawsuits probe US Securities Exchange Commission following 2004 New York listing failure disclose accounting irregularities parent company .',\n",
       " 'Earlier month , China Construction Bank branch manager jailed life separate case .',\n",
       " \"Millions go missing China bank Two senior officials one China 's top commercial banks reportedly disappeared funds worth $ 120m ( £64m ) went missing .\",\n",
       " 'Attempts strengthen internal controls tighten lending policies uncovered succession scandals involving embezzlement bank officials loans-for-favours .']"
      ]
     },
     "execution_count": 160,
     "metadata": {},
     "output_type": "execute_result"
    }
   ],
   "source": [
    "top_10_sentences"
   ]
  },
  {
   "cell_type": "code",
   "execution_count": 161,
   "id": "aeb966da",
   "metadata": {},
   "outputs": [
    {
     "data": {
      "text/plain": [
       "array([19,  9,  8, 18, 17, 10, 23, 15,  0, 12], dtype=int64)"
      ]
     },
     "execution_count": 161,
     "metadata": {},
     "output_type": "execute_result"
    }
   ],
   "source": [
    "top_10_summaries_indices"
   ]
  },
  {
   "cell_type": "code",
   "execution_count": 165,
   "id": "bfbbec8c",
   "metadata": {},
   "outputs": [],
   "source": [
    "sg_summary = ' '.join([sent_tokenize(new_text)[i] for i in sorted(top_10_summaries_indices)])"
   ]
  },
  {
   "cell_type": "code",
   "execution_count": 166,
   "id": "c0f5a9f4",
   "metadata": {},
   "outputs": [
    {
     "data": {
      "text/plain": [
       "\"Millions go missing China bank Two senior officials one China 's top commercial banks reportedly disappeared funds worth $ 120m ( £64m ) went missing . However , report China-published Economic Observer said Monday two banks may scrapped plans list New York cost meeting regulatory requirements imposed since Enron scandal . Bank China country 's biggest foreign exchange dealer , China Construction Bank largest deposit holder . China 's banking sector burdened least $ 190bn bad debt according official data , though observers believe true figure far higher . Attempts strengthen internal controls tighten lending policies uncovered succession scandals involving embezzlement bank officials loans-for-favours . Earlier month , China Construction Bank branch manager jailed life separate case . The introduction market reforms accompanied attempts modernize banking sector , links banks local government remain strong . Last year , China's premier , Wen Jiabao , targeted bank lending practices series speeches , regulators ordered big loans scrutinized , attempt cool irresponsible lending . China 's leaders see reforming top four banks vital distribute capital profitable companies protect health China 's economic boom . Another high-profile financial firm , China Life , facing shareholder lawsuits probe US Securities Exchange Commission following 2004 New York listing failure disclose accounting irregularities parent company .\""
      ]
     },
     "execution_count": 166,
     "metadata": {},
     "output_type": "execute_result"
    }
   ],
   "source": [
    "sg_summary"
   ]
  },
  {
   "cell_type": "markdown",
   "id": "b3681ed0",
   "metadata": {},
   "source": [
    "### Glove"
   ]
  },
  {
   "cell_type": "code",
   "execution_count": 173,
   "id": "5c99f995",
   "metadata": {},
   "outputs": [],
   "source": [
    "file_name = \"word2vec-glove.6B.300d.txt\"  \n",
    "model = KeyedVectors.load_word2vec_format(file_name, binary=False)"
   ]
  },
  {
   "cell_type": "code",
   "execution_count": 176,
   "id": "5c23db3d",
   "metadata": {},
   "outputs": [
    {
     "data": {
      "text/plain": [
       "[\"Millions go missing China bank Two senior officials one China 's top commercial banks reportedly disappeared funds worth $ 120m ( £64m ) went missing .\",\n",
       " 'The pair worked Bank China northern city Harbin , South China Morning Post reported .',\n",
       " \"The latest scandal Bank China nothing reassure foreign investors China's big four banks ready international listings .\",\n",
       " 'Government policy sees bank listings vital economic reforms .',\n",
       " 'Bank China one two frontrunners race list overseas .',\n",
       " 'The China Construction Bank .',\n",
       " 'Both expected list abroad 2005 .',\n",
       " 'They shared $ 45bn state bailout 2003 , help clean balance sheets preparation foreign stock market debut .',\n",
       " 'However , report China-published Economic Observer said Monday two banks may scrapped plans list New York cost meeting regulatory requirements imposed since Enron scandal .',\n",
       " \"Bank China country 's biggest foreign exchange dealer , China Construction Bank largest deposit holder .\",\n",
       " \"China 's banking sector burdened least $ 190bn bad debt according official data , though observers believe true figure far higher .\",\n",
       " 'Officially , one five loans repaid .',\n",
       " 'Attempts strengthen internal controls tighten lending policies uncovered succession scandals involving embezzlement bank officials loans-for-favours .',\n",
       " 'The high-profile case involved ex-president Bank China , Wang Xuebing , jailed 12 years 2003 .',\n",
       " 'Although , committed offences whilst running Bank China New York , Mr.Wang head China Construction Bank scandal broke .',\n",
       " 'Earlier month , China Construction Bank branch manager jailed life separate case .',\n",
       " \"China 's banks used act cash offices state enterprises require checks credit worthiness .\",\n",
       " 'The introduction market reforms accompanied attempts modernize banking sector , links banks local government remain strong .',\n",
       " \"Last year , China's premier , Wen Jiabao , targeted bank lending practices series speeches , regulators ordered big loans scrutinized , attempt cool irresponsible lending .\",\n",
       " \"China 's leaders see reforming top four banks vital distribute capital profitable companies protect health China 's economic boom .\",\n",
       " 'But two problems persist .',\n",
       " 'First , inefficient state enterprises continue receive protection bankruptcy employ large numbers people .',\n",
       " 'Second , many questionable loans come big four , smaller banks .',\n",
       " 'Another high-profile financial firm , China Life , facing shareholder lawsuits probe US Securities Exchange Commission following 2004 New York listing failure disclose accounting irregularities parent company .']"
      ]
     },
     "execution_count": 176,
     "metadata": {},
     "output_type": "execute_result"
    }
   ],
   "source": [
    "sentences = sent_tokenize(new_text)\n",
    "sentences"
   ]
  },
  {
   "cell_type": "code",
   "execution_count": 179,
   "id": "13123673",
   "metadata": {},
   "outputs": [],
   "source": [
    "def glove_sentence_embedding(sentence, model):\n",
    "    words = sentence.split()\n",
    "    valid_words = [word for word in words if word in model]\n",
    "\n",
    "    if len(valid_words) > 0:\n",
    "        embedding = np.mean([model[word] for word in valid_words], axis=0)\n",
    "    else:\n",
    "        embedding = np.zeros(model.vector_size)\n",
    "\n",
    "    return embedding"
   ]
  },
  {
   "cell_type": "code",
   "execution_count": 180,
   "id": "15dddc61",
   "metadata": {},
   "outputs": [],
   "source": [
    "glove_array = [sentence_embedding(sentence, model) for sentence in sentences]\n",
    "glove_array = np.array(glove_array)"
   ]
  },
  {
   "cell_type": "code",
   "execution_count": 181,
   "id": "c918da65",
   "metadata": {},
   "outputs": [
    {
     "data": {
      "text/plain": [
       "array([[ 0.22317618,  0.17406385,  0.35028833, ..., -0.16210365,\n",
       "         0.5665448 , -0.1056913 ],\n",
       "       [-0.08302357, -0.01501614,  0.20060015, ..., -0.02811715,\n",
       "         0.5627057 , -0.11961043],\n",
       "       [ 0.02092777,  0.14262792,  0.37171093, ..., -0.04933453,\n",
       "         0.3878954 ,  0.32923287],\n",
       "       ...,\n",
       "       [-0.06292181,  0.24843508,  0.05861692, ..., -0.29185206,\n",
       "         0.52695715, -0.16893741],\n",
       "       [-0.00934309,  0.3416618 ,  0.2475369 , ..., -0.17657301,\n",
       "         0.6884654 ,  0.04916891],\n",
       "       [ 0.09589174, -0.10853332,  0.06520274, ..., -0.13419141,\n",
       "         0.5598758 , -0.13724864]], dtype=float32)"
      ]
     },
     "execution_count": 181,
     "metadata": {},
     "output_type": "execute_result"
    }
   ],
   "source": [
    "glove_array"
   ]
  },
  {
   "cell_type": "code",
   "execution_count": 182,
   "id": "a961311f",
   "metadata": {},
   "outputs": [
    {
     "data": {
      "text/plain": [
       "(24, 100)"
      ]
     },
     "execution_count": 182,
     "metadata": {},
     "output_type": "execute_result"
    }
   ],
   "source": [
    "glove_array.shape"
   ]
  },
  {
   "cell_type": "code",
   "execution_count": 183,
   "id": "ebe25f62",
   "metadata": {},
   "outputs": [
    {
     "data": {
      "text/html": [
       "<style>#sk-container-id-4 {color: black;}#sk-container-id-4 pre{padding: 0;}#sk-container-id-4 div.sk-toggleable {background-color: white;}#sk-container-id-4 label.sk-toggleable__label {cursor: pointer;display: block;width: 100%;margin-bottom: 0;padding: 0.3em;box-sizing: border-box;text-align: center;}#sk-container-id-4 label.sk-toggleable__label-arrow:before {content: \"▸\";float: left;margin-right: 0.25em;color: #696969;}#sk-container-id-4 label.sk-toggleable__label-arrow:hover:before {color: black;}#sk-container-id-4 div.sk-estimator:hover label.sk-toggleable__label-arrow:before {color: black;}#sk-container-id-4 div.sk-toggleable__content {max-height: 0;max-width: 0;overflow: hidden;text-align: left;background-color: #f0f8ff;}#sk-container-id-4 div.sk-toggleable__content pre {margin: 0.2em;color: black;border-radius: 0.25em;background-color: #f0f8ff;}#sk-container-id-4 input.sk-toggleable__control:checked~div.sk-toggleable__content {max-height: 200px;max-width: 100%;overflow: auto;}#sk-container-id-4 input.sk-toggleable__control:checked~label.sk-toggleable__label-arrow:before {content: \"▾\";}#sk-container-id-4 div.sk-estimator input.sk-toggleable__control:checked~label.sk-toggleable__label {background-color: #d4ebff;}#sk-container-id-4 div.sk-label input.sk-toggleable__control:checked~label.sk-toggleable__label {background-color: #d4ebff;}#sk-container-id-4 input.sk-hidden--visually {border: 0;clip: rect(1px 1px 1px 1px);clip: rect(1px, 1px, 1px, 1px);height: 1px;margin: -1px;overflow: hidden;padding: 0;position: absolute;width: 1px;}#sk-container-id-4 div.sk-estimator {font-family: monospace;background-color: #f0f8ff;border: 1px dotted black;border-radius: 0.25em;box-sizing: border-box;margin-bottom: 0.5em;}#sk-container-id-4 div.sk-estimator:hover {background-color: #d4ebff;}#sk-container-id-4 div.sk-parallel-item::after {content: \"\";width: 100%;border-bottom: 1px solid gray;flex-grow: 1;}#sk-container-id-4 div.sk-label:hover label.sk-toggleable__label {background-color: #d4ebff;}#sk-container-id-4 div.sk-serial::before {content: \"\";position: absolute;border-left: 1px solid gray;box-sizing: border-box;top: 0;bottom: 0;left: 50%;z-index: 0;}#sk-container-id-4 div.sk-serial {display: flex;flex-direction: column;align-items: center;background-color: white;padding-right: 0.2em;padding-left: 0.2em;position: relative;}#sk-container-id-4 div.sk-item {position: relative;z-index: 1;}#sk-container-id-4 div.sk-parallel {display: flex;align-items: stretch;justify-content: center;background-color: white;position: relative;}#sk-container-id-4 div.sk-item::before, #sk-container-id-4 div.sk-parallel-item::before {content: \"\";position: absolute;border-left: 1px solid gray;box-sizing: border-box;top: 0;bottom: 0;left: 50%;z-index: -1;}#sk-container-id-4 div.sk-parallel-item {display: flex;flex-direction: column;z-index: 1;position: relative;background-color: white;}#sk-container-id-4 div.sk-parallel-item:first-child::after {align-self: flex-end;width: 50%;}#sk-container-id-4 div.sk-parallel-item:last-child::after {align-self: flex-start;width: 50%;}#sk-container-id-4 div.sk-parallel-item:only-child::after {width: 0;}#sk-container-id-4 div.sk-dashed-wrapped {border: 1px dashed gray;margin: 0 0.4em 0.5em 0.4em;box-sizing: border-box;padding-bottom: 0.4em;background-color: white;}#sk-container-id-4 div.sk-label label {font-family: monospace;font-weight: bold;display: inline-block;line-height: 1.2em;}#sk-container-id-4 div.sk-label-container {text-align: center;}#sk-container-id-4 div.sk-container {/* jupyter's `normalize.less` sets `[hidden] { display: none; }` but bootstrap.min.css set `[hidden] { display: none !important; }` so we also need the `!important` here to be able to override the default hidden behavior on the sphinx rendered scikit-learn.org. See: https://github.com/scikit-learn/scikit-learn/issues/21755 */display: inline-block !important;position: relative;}#sk-container-id-4 div.sk-text-repr-fallback {display: none;}</style><div id=\"sk-container-id-4\" class=\"sk-top-container\"><div class=\"sk-text-repr-fallback\"><pre>NearestNeighbors(algorithm=&#x27;brute&#x27;, metric=&#x27;cosine&#x27;, n_jobs=-1, n_neighbors=10)</pre><b>In a Jupyter environment, please rerun this cell to show the HTML representation or trust the notebook. <br />On GitHub, the HTML representation is unable to render, please try loading this page with nbviewer.org.</b></div><div class=\"sk-container\" hidden><div class=\"sk-item\"><div class=\"sk-estimator sk-toggleable\"><input class=\"sk-toggleable__control sk-hidden--visually\" id=\"sk-estimator-id-4\" type=\"checkbox\" checked><label for=\"sk-estimator-id-4\" class=\"sk-toggleable__label sk-toggleable__label-arrow\">NearestNeighbors</label><div class=\"sk-toggleable__content\"><pre>NearestNeighbors(algorithm=&#x27;brute&#x27;, metric=&#x27;cosine&#x27;, n_jobs=-1, n_neighbors=10)</pre></div></div></div></div></div>"
      ],
      "text/plain": [
       "NearestNeighbors(algorithm='brute', metric='cosine', n_jobs=-1, n_neighbors=10)"
      ]
     },
     "execution_count": 183,
     "metadata": {},
     "output_type": "execute_result"
    }
   ],
   "source": [
    "from sklearn.neighbors import NearestNeighbors\n",
    "model = NearestNeighbors(n_neighbors=10,\n",
    "                         metric='cosine',\n",
    "                         algorithm='brute',\n",
    "                         n_jobs=-1)\n",
    "model.fit(glove_array)"
   ]
  },
  {
   "cell_type": "code",
   "execution_count": 184,
   "id": "7cfbddde",
   "metadata": {},
   "outputs": [],
   "source": [
    "distances, indices = model.kneighbors(glove_array)"
   ]
  },
  {
   "cell_type": "code",
   "execution_count": 185,
   "id": "7e138c32",
   "metadata": {},
   "outputs": [],
   "source": [
    "extractive_summary = []\n",
    "\n",
    "for i in range(len(glove_array)):\n",
    "    neighbors_indices = indices[i][1:]  # Exclude the document itself\n",
    "    summary_embedding = np.mean(glove_array[neighbors_indices], axis=0)\n",
    "    extractive_summary.append(summary_embedding)\n",
    "\n",
    "extractive_summary = np.array(extractive_summary)"
   ]
  },
  {
   "cell_type": "code",
   "execution_count": 186,
   "id": "367bb8f2",
   "metadata": {},
   "outputs": [],
   "source": [
    "top_10_summaries_indices = np.argsort(distances.sum(axis=1))[:10]\n",
    "top_10_summaries = extractive_summary[top_10_summaries_indices]"
   ]
  },
  {
   "cell_type": "code",
   "execution_count": 187,
   "id": "a1c4f622",
   "metadata": {},
   "outputs": [
    {
     "data": {
      "text/plain": [
       "array([18, 19, 22,  7, 10,  2,  8, 17,  0, 21], dtype=int64)"
      ]
     },
     "execution_count": 187,
     "metadata": {},
     "output_type": "execute_result"
    }
   ],
   "source": [
    "top_10_summaries_indices"
   ]
  },
  {
   "cell_type": "code",
   "execution_count": 188,
   "id": "195b2ebe",
   "metadata": {},
   "outputs": [],
   "source": [
    "top_10_sentences = [sent_tokenize(new_text)[index] for index in top_10_summaries_indices]"
   ]
  },
  {
   "cell_type": "code",
   "execution_count": 189,
   "id": "8934ff36",
   "metadata": {},
   "outputs": [
    {
     "data": {
      "text/plain": [
       "[\"Last year , China's premier , Wen Jiabao , targeted bank lending practices series speeches , regulators ordered big loans scrutinized , attempt cool irresponsible lending .\",\n",
       " \"China 's leaders see reforming top four banks vital distribute capital profitable companies protect health China 's economic boom .\",\n",
       " 'Second , many questionable loans come big four , smaller banks .',\n",
       " 'They shared $ 45bn state bailout 2003 , help clean balance sheets preparation foreign stock market debut .',\n",
       " \"China 's banking sector burdened least $ 190bn bad debt according official data , though observers believe true figure far higher .\",\n",
       " \"The latest scandal Bank China nothing reassure foreign investors China's big four banks ready international listings .\",\n",
       " 'However , report China-published Economic Observer said Monday two banks may scrapped plans list New York cost meeting regulatory requirements imposed since Enron scandal .',\n",
       " 'The introduction market reforms accompanied attempts modernize banking sector , links banks local government remain strong .',\n",
       " \"Millions go missing China bank Two senior officials one China 's top commercial banks reportedly disappeared funds worth $ 120m ( £64m ) went missing .\",\n",
       " 'First , inefficient state enterprises continue receive protection bankruptcy employ large numbers people .']"
      ]
     },
     "execution_count": 189,
     "metadata": {},
     "output_type": "execute_result"
    }
   ],
   "source": [
    "top_10_sentences"
   ]
  },
  {
   "cell_type": "code",
   "execution_count": 190,
   "id": "8b268b06",
   "metadata": {},
   "outputs": [],
   "source": [
    "glove_summary = ' '.join([sent_tokenize(new_text)[i] for i in sorted(top_10_summaries_indices)])"
   ]
  },
  {
   "cell_type": "code",
   "execution_count": 191,
   "id": "239c7d82",
   "metadata": {},
   "outputs": [
    {
     "data": {
      "text/plain": [
       "\"Millions go missing China bank Two senior officials one China 's top commercial banks reportedly disappeared funds worth $ 120m ( £64m ) went missing . The latest scandal Bank China nothing reassure foreign investors China's big four banks ready international listings . They shared $ 45bn state bailout 2003 , help clean balance sheets preparation foreign stock market debut . However , report China-published Economic Observer said Monday two banks may scrapped plans list New York cost meeting regulatory requirements imposed since Enron scandal . China 's banking sector burdened least $ 190bn bad debt according official data , though observers believe true figure far higher . The introduction market reforms accompanied attempts modernize banking sector , links banks local government remain strong . Last year , China's premier , Wen Jiabao , targeted bank lending practices series speeches , regulators ordered big loans scrutinized , attempt cool irresponsible lending . China 's leaders see reforming top four banks vital distribute capital profitable companies protect health China 's economic boom . First , inefficient state enterprises continue receive protection bankruptcy employ large numbers people . Second , many questionable loans come big four , smaller banks .\""
      ]
     },
     "execution_count": 191,
     "metadata": {},
     "output_type": "execute_result"
    }
   ],
   "source": [
    "glove_summary"
   ]
  },
  {
   "cell_type": "markdown",
   "id": "545c1460",
   "metadata": {},
   "source": [
    "### FastText"
   ]
  },
  {
   "cell_type": "code",
   "execution_count": 202,
   "id": "47691db2",
   "metadata": {},
   "outputs": [],
   "source": [
    "tokenized_sentences = [sentence.split() for sentence in sentences]\n",
    "model = FastText(sentences=tokenized_sentences, vector_size=300, window=5, min_count=1, workers=-1, sg=1)"
   ]
  },
  {
   "cell_type": "code",
   "execution_count": 203,
   "id": "2c3f29fa",
   "metadata": {},
   "outputs": [],
   "source": [
    "def fast_text_sentence_embedding(sentence, model):\n",
    "    words = sentence.split()\n",
    "    valid_words = [word for word in words if word in model.wv]\n",
    "    if len(valid_words) > 0:\n",
    "        embedding = np.mean([model.wv[word] for word in valid_words], axis=0)\n",
    "    else:\n",
    "        embedding = np.zeros(model.vector_size)\n",
    "\n",
    "    return embedding"
   ]
  },
  {
   "cell_type": "code",
   "execution_count": 204,
   "id": "651959ac",
   "metadata": {},
   "outputs": [],
   "source": [
    "fast_embedding = [fast_text_sentence_embedding(sentence, model) for sentence in sentences]\n",
    "fast_embedding_array = np.array(fast_embedding)"
   ]
  },
  {
   "cell_type": "code",
   "execution_count": 205,
   "id": "7a27ea8d",
   "metadata": {},
   "outputs": [
    {
     "name": "stdout",
     "output_type": "stream",
     "text": [
      "[[-2.2793592e-04  1.6232443e-04  6.7126726e-05 ...  6.4166503e-05\n",
      "   1.6630090e-04 -1.2996412e-04]\n",
      " [-1.9683743e-05  4.9250887e-04  1.5267938e-04 ... -2.9366274e-04\n",
      "  -6.9838672e-05 -1.1452228e-04]\n",
      " [ 5.1756491e-05  1.1708896e-04  1.7875625e-04 ...  2.3562390e-05\n",
      "   6.5808352e-05 -2.0481732e-05]\n",
      " ...\n",
      " [-2.1770365e-04  3.6490077e-04  1.0585137e-04 ... -2.1933668e-04\n",
      "  -1.3737976e-04  1.3439913e-04]\n",
      " [-1.5962969e-04  6.7737239e-04  3.9854640e-05 ... -6.0914393e-04\n",
      "   3.5686880e-05  8.1965693e-05]\n",
      " [-1.2875089e-04  2.8979307e-04 -1.6815853e-05 ... -1.7780946e-04\n",
      "  -1.6246687e-04 -2.5712408e-05]]\n"
     ]
    }
   ],
   "source": [
    "print(fast_embedding_array)"
   ]
  },
  {
   "cell_type": "code",
   "execution_count": 206,
   "id": "6a1a233e",
   "metadata": {},
   "outputs": [
    {
     "data": {
      "text/plain": [
       "(24, 300)"
      ]
     },
     "execution_count": 206,
     "metadata": {},
     "output_type": "execute_result"
    }
   ],
   "source": [
    "fast_embedding_array.shape"
   ]
  },
  {
   "cell_type": "code",
   "execution_count": 207,
   "id": "393a7a0e",
   "metadata": {},
   "outputs": [
    {
     "data": {
      "text/html": [
       "<style>#sk-container-id-5 {color: black;}#sk-container-id-5 pre{padding: 0;}#sk-container-id-5 div.sk-toggleable {background-color: white;}#sk-container-id-5 label.sk-toggleable__label {cursor: pointer;display: block;width: 100%;margin-bottom: 0;padding: 0.3em;box-sizing: border-box;text-align: center;}#sk-container-id-5 label.sk-toggleable__label-arrow:before {content: \"▸\";float: left;margin-right: 0.25em;color: #696969;}#sk-container-id-5 label.sk-toggleable__label-arrow:hover:before {color: black;}#sk-container-id-5 div.sk-estimator:hover label.sk-toggleable__label-arrow:before {color: black;}#sk-container-id-5 div.sk-toggleable__content {max-height: 0;max-width: 0;overflow: hidden;text-align: left;background-color: #f0f8ff;}#sk-container-id-5 div.sk-toggleable__content pre {margin: 0.2em;color: black;border-radius: 0.25em;background-color: #f0f8ff;}#sk-container-id-5 input.sk-toggleable__control:checked~div.sk-toggleable__content {max-height: 200px;max-width: 100%;overflow: auto;}#sk-container-id-5 input.sk-toggleable__control:checked~label.sk-toggleable__label-arrow:before {content: \"▾\";}#sk-container-id-5 div.sk-estimator input.sk-toggleable__control:checked~label.sk-toggleable__label {background-color: #d4ebff;}#sk-container-id-5 div.sk-label input.sk-toggleable__control:checked~label.sk-toggleable__label {background-color: #d4ebff;}#sk-container-id-5 input.sk-hidden--visually {border: 0;clip: rect(1px 1px 1px 1px);clip: rect(1px, 1px, 1px, 1px);height: 1px;margin: -1px;overflow: hidden;padding: 0;position: absolute;width: 1px;}#sk-container-id-5 div.sk-estimator {font-family: monospace;background-color: #f0f8ff;border: 1px dotted black;border-radius: 0.25em;box-sizing: border-box;margin-bottom: 0.5em;}#sk-container-id-5 div.sk-estimator:hover {background-color: #d4ebff;}#sk-container-id-5 div.sk-parallel-item::after {content: \"\";width: 100%;border-bottom: 1px solid gray;flex-grow: 1;}#sk-container-id-5 div.sk-label:hover label.sk-toggleable__label {background-color: #d4ebff;}#sk-container-id-5 div.sk-serial::before {content: \"\";position: absolute;border-left: 1px solid gray;box-sizing: border-box;top: 0;bottom: 0;left: 50%;z-index: 0;}#sk-container-id-5 div.sk-serial {display: flex;flex-direction: column;align-items: center;background-color: white;padding-right: 0.2em;padding-left: 0.2em;position: relative;}#sk-container-id-5 div.sk-item {position: relative;z-index: 1;}#sk-container-id-5 div.sk-parallel {display: flex;align-items: stretch;justify-content: center;background-color: white;position: relative;}#sk-container-id-5 div.sk-item::before, #sk-container-id-5 div.sk-parallel-item::before {content: \"\";position: absolute;border-left: 1px solid gray;box-sizing: border-box;top: 0;bottom: 0;left: 50%;z-index: -1;}#sk-container-id-5 div.sk-parallel-item {display: flex;flex-direction: column;z-index: 1;position: relative;background-color: white;}#sk-container-id-5 div.sk-parallel-item:first-child::after {align-self: flex-end;width: 50%;}#sk-container-id-5 div.sk-parallel-item:last-child::after {align-self: flex-start;width: 50%;}#sk-container-id-5 div.sk-parallel-item:only-child::after {width: 0;}#sk-container-id-5 div.sk-dashed-wrapped {border: 1px dashed gray;margin: 0 0.4em 0.5em 0.4em;box-sizing: border-box;padding-bottom: 0.4em;background-color: white;}#sk-container-id-5 div.sk-label label {font-family: monospace;font-weight: bold;display: inline-block;line-height: 1.2em;}#sk-container-id-5 div.sk-label-container {text-align: center;}#sk-container-id-5 div.sk-container {/* jupyter's `normalize.less` sets `[hidden] { display: none; }` but bootstrap.min.css set `[hidden] { display: none !important; }` so we also need the `!important` here to be able to override the default hidden behavior on the sphinx rendered scikit-learn.org. See: https://github.com/scikit-learn/scikit-learn/issues/21755 */display: inline-block !important;position: relative;}#sk-container-id-5 div.sk-text-repr-fallback {display: none;}</style><div id=\"sk-container-id-5\" class=\"sk-top-container\"><div class=\"sk-text-repr-fallback\"><pre>NearestNeighbors(algorithm=&#x27;brute&#x27;, metric=&#x27;cosine&#x27;, n_jobs=-1, n_neighbors=10)</pre><b>In a Jupyter environment, please rerun this cell to show the HTML representation or trust the notebook. <br />On GitHub, the HTML representation is unable to render, please try loading this page with nbviewer.org.</b></div><div class=\"sk-container\" hidden><div class=\"sk-item\"><div class=\"sk-estimator sk-toggleable\"><input class=\"sk-toggleable__control sk-hidden--visually\" id=\"sk-estimator-id-5\" type=\"checkbox\" checked><label for=\"sk-estimator-id-5\" class=\"sk-toggleable__label sk-toggleable__label-arrow\">NearestNeighbors</label><div class=\"sk-toggleable__content\"><pre>NearestNeighbors(algorithm=&#x27;brute&#x27;, metric=&#x27;cosine&#x27;, n_jobs=-1, n_neighbors=10)</pre></div></div></div></div></div>"
      ],
      "text/plain": [
       "NearestNeighbors(algorithm='brute', metric='cosine', n_jobs=-1, n_neighbors=10)"
      ]
     },
     "execution_count": 207,
     "metadata": {},
     "output_type": "execute_result"
    }
   ],
   "source": [
    "from sklearn.neighbors import NearestNeighbors\n",
    "model = NearestNeighbors(n_neighbors=10,\n",
    "                         metric='cosine',\n",
    "                         algorithm='brute',\n",
    "                         n_jobs=-1)\n",
    "model.fit(fast_embedding_array)"
   ]
  },
  {
   "cell_type": "code",
   "execution_count": 208,
   "id": "c1e30ca0",
   "metadata": {},
   "outputs": [],
   "source": [
    "distances, indices = model.kneighbors(fast_embedding_array)"
   ]
  },
  {
   "cell_type": "code",
   "execution_count": 209,
   "id": "e60d5e7d",
   "metadata": {},
   "outputs": [],
   "source": [
    "extractive_summary = []\n",
    "\n",
    "for i in range(len(fast_embedding_array)):\n",
    "    neighbors_indices = indices[i][1:]  # Exclude the document itself\n",
    "    summary_embedding = np.mean(fast_embedding_array[neighbors_indices], axis=0)\n",
    "    extractive_summary.append(summary_embedding)\n",
    "\n",
    "extractive_summary = np.array(extractive_summary)"
   ]
  },
  {
   "cell_type": "code",
   "execution_count": 210,
   "id": "8c3d49a3",
   "metadata": {},
   "outputs": [],
   "source": [
    "top_10_summaries_indices = np.argsort(distances.sum(axis=1))[:10]\n",
    "top_10_summaries = extractive_summary[top_10_summaries_indices]"
   ]
  },
  {
   "cell_type": "code",
   "execution_count": 211,
   "id": "acfac7e6",
   "metadata": {},
   "outputs": [
    {
     "data": {
      "text/plain": [
       "array([14, 13, 18, 22, 23, 11, 15, 21,  9,  1], dtype=int64)"
      ]
     },
     "execution_count": 211,
     "metadata": {},
     "output_type": "execute_result"
    }
   ],
   "source": [
    "top_10_summaries_indices"
   ]
  },
  {
   "cell_type": "code",
   "execution_count": 212,
   "id": "6ed55ca1",
   "metadata": {},
   "outputs": [],
   "source": [
    "top_10_sentences = [sent_tokenize(new_text)[index] for index in top_10_summaries_indices]"
   ]
  },
  {
   "cell_type": "code",
   "execution_count": 213,
   "id": "e8a31b34",
   "metadata": {},
   "outputs": [
    {
     "data": {
      "text/plain": [
       "['Although , committed offences whilst running Bank China New York , Mr.Wang head China Construction Bank scandal broke .',\n",
       " 'The high-profile case involved ex-president Bank China , Wang Xuebing , jailed 12 years 2003 .',\n",
       " \"Last year , China's premier , Wen Jiabao , targeted bank lending practices series speeches , regulators ordered big loans scrutinized , attempt cool irresponsible lending .\",\n",
       " 'Second , many questionable loans come big four , smaller banks .',\n",
       " 'Another high-profile financial firm , China Life , facing shareholder lawsuits probe US Securities Exchange Commission following 2004 New York listing failure disclose accounting irregularities parent company .',\n",
       " 'Officially , one five loans repaid .',\n",
       " 'Earlier month , China Construction Bank branch manager jailed life separate case .',\n",
       " 'First , inefficient state enterprises continue receive protection bankruptcy employ large numbers people .',\n",
       " \"Bank China country 's biggest foreign exchange dealer , China Construction Bank largest deposit holder .\",\n",
       " 'The pair worked Bank China northern city Harbin , South China Morning Post reported .']"
      ]
     },
     "execution_count": 213,
     "metadata": {},
     "output_type": "execute_result"
    }
   ],
   "source": [
    "top_10_sentences"
   ]
  },
  {
   "cell_type": "code",
   "execution_count": 214,
   "id": "53b1e87a",
   "metadata": {},
   "outputs": [],
   "source": [
    "fast_text_summary = ' '.join([sent_tokenize(new_text)[i] for i in sorted(top_10_summaries_indices)])"
   ]
  },
  {
   "cell_type": "code",
   "execution_count": 215,
   "id": "1e987f5b",
   "metadata": {},
   "outputs": [
    {
     "data": {
      "text/plain": [
       "\"The pair worked Bank China northern city Harbin , South China Morning Post reported . Bank China country 's biggest foreign exchange dealer , China Construction Bank largest deposit holder . Officially , one five loans repaid . The high-profile case involved ex-president Bank China , Wang Xuebing , jailed 12 years 2003 . Although , committed offences whilst running Bank China New York , Mr.Wang head China Construction Bank scandal broke . Earlier month , China Construction Bank branch manager jailed life separate case . Last year , China's premier , Wen Jiabao , targeted bank lending practices series speeches , regulators ordered big loans scrutinized , attempt cool irresponsible lending . First , inefficient state enterprises continue receive protection bankruptcy employ large numbers people . Second , many questionable loans come big four , smaller banks . Another high-profile financial firm , China Life , facing shareholder lawsuits probe US Securities Exchange Commission following 2004 New York listing failure disclose accounting irregularities parent company .\""
      ]
     },
     "execution_count": 215,
     "metadata": {},
     "output_type": "execute_result"
    }
   ],
   "source": [
    "fast_text_summary"
   ]
  }
 ],
 "metadata": {
  "kernelspec": {
   "display_name": "Python 3 (ipykernel)",
   "language": "python",
   "name": "python3"
  },
  "language_info": {
   "codemirror_mode": {
    "name": "ipython",
    "version": 3
   },
   "file_extension": ".py",
   "mimetype": "text/x-python",
   "name": "python",
   "nbconvert_exporter": "python",
   "pygments_lexer": "ipython3",
   "version": "3.11.4"
  }
 },
 "nbformat": 4,
 "nbformat_minor": 5
}
