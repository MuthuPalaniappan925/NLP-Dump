{
  "nbformat": 4,
  "nbformat_minor": 0,
  "metadata": {
    "colab": {
      "provenance": []
    },
    "kernelspec": {
      "name": "python3",
      "display_name": "Python 3"
    },
    "language_info": {
      "name": "python"
    }
  },
  "cells": [
    {
      "cell_type": "code",
      "execution_count": 6,
      "metadata": {
        "id": "indntkjJpLBl"
      },
      "outputs": [],
      "source": [
        "import nltk\n",
        "from nltk import ngrams\n",
        "from nltk.probability import FreqDist, ConditionalFreqDist\n",
        "from nltk.corpus import brown, movie_reviews, reuters, gutenberg"
      ]
    },
    {
      "cell_type": "code",
      "source": [
        "nltk.download(\"movie_reviews\")\n",
        "nltk.download(\"gutenberg\")\n",
        "nltk.download('brown')\n",
        "nltk.download(\"reuters\")"
      ],
      "metadata": {
        "colab": {
          "base_uri": "https://localhost:8080/"
        },
        "id": "clM0tIqgpPbb",
        "outputId": "a5d0760c-aa2b-44d9-db16-4735c896d7af"
      },
      "execution_count": 7,
      "outputs": [
        {
          "output_type": "stream",
          "name": "stderr",
          "text": [
            "[nltk_data] Downloading package movie_reviews to /root/nltk_data...\n",
            "[nltk_data]   Package movie_reviews is already up-to-date!\n",
            "[nltk_data] Downloading package gutenberg to /root/nltk_data...\n",
            "[nltk_data]   Package gutenberg is already up-to-date!\n",
            "[nltk_data] Downloading package brown to /root/nltk_data...\n",
            "[nltk_data]   Package brown is already up-to-date!\n",
            "[nltk_data] Downloading package reuters to /root/nltk_data...\n",
            "[nltk_data]   Package reuters is already up-to-date!\n"
          ]
        },
        {
          "output_type": "execute_result",
          "data": {
            "text/plain": [
              "True"
            ]
          },
          "metadata": {},
          "execution_count": 7
        }
      ]
    },
    {
      "cell_type": "code",
      "source": [
        "vocab = brown.words() + movie_reviews.words() + reuters.words() + gutenberg.words()\n",
        "print(f\"The length of the Vocabulary for the language Model: {len(vocab)}\")"
      ],
      "metadata": {
        "colab": {
          "base_uri": "https://localhost:8080/"
        },
        "id": "yBn2hZh9pc9z",
        "outputId": "8d51ec03-a201-45a3-b2a6-88421a3aa29a"
      },
      "execution_count": 8,
      "outputs": [
        {
          "output_type": "stream",
          "name": "stdout",
          "text": [
            "The length of the Vocabulary for the language Model: 7087526\n"
          ]
        }
      ]
    },
    {
      "cell_type": "code",
      "source": [
        "bigrams = ngrams(vocab,2)\n",
        "vocab_dict = nltk.ConditionalFreqDist(bigrams)"
      ],
      "metadata": {
        "id": "pY7T9yXSptUl"
      },
      "execution_count": 9,
      "outputs": []
    },
    {
      "cell_type": "code",
      "source": [
        "vocab_dict[\"a\"]"
      ],
      "metadata": {
        "colab": {
          "base_uri": "https://localhost:8080/"
        },
        "id": "SU5HjlVgq32r",
        "outputId": "9939e142-b45e-4d31-b0c4-dfc643a9af69"
      },
      "execution_count": 11,
      "outputs": [
        {
          "output_type": "execute_result",
          "data": {
            "text/plain": [
              "FreqDist({'little': 1794, 'man': 1640, 'few': 1491, 'great': 1401, 'good': 1356, 'very': 1260, 'share': 1185, 'year': 1051, 'new': 1034, 'lot': 793, ...})"
            ]
          },
          "metadata": {},
          "execution_count": 11
        }
      ]
    },
    {
      "cell_type": "code",
      "source": [
        "sentence = \"It is a sunny day\""
      ],
      "metadata": {
        "id": "REZ0EpZCqsE0"
      },
      "execution_count": 16,
      "outputs": []
    },
    {
      "cell_type": "code",
      "source": [
        "import itertools\n",
        "words = sentence.split()\n",
        "permutations = list(itertools.permutations(words))"
      ],
      "metadata": {
        "id": "y_ASruTHrujj"
      },
      "execution_count": 17,
      "outputs": []
    },
    {
      "cell_type": "code",
      "source": [
        "vocab_dict['a'].freq('little') * 100"
      ],
      "metadata": {
        "colab": {
          "base_uri": "https://localhost:8080/"
        },
        "id": "vHNoC4oSsm9a",
        "outputId": "d4808fad-231e-4712-da0d-6f96bf434733"
      },
      "execution_count": 23,
      "outputs": [
        {
          "output_type": "execute_result",
          "data": {
            "text/plain": [
              "1.5467784071803625"
            ]
          },
          "metadata": {},
          "execution_count": 23
        }
      ]
    },
    {
      "cell_type": "code",
      "source": [
        "for permutation in permutations:\n",
        "    prob = 1\n",
        "    for i in range(len(permutation) - 1):\n",
        "        prob *= vocab_dict[permutation[i]].freq(permutation[i + 1]) * 100\n",
        "\n",
        "    print(f\"Sentence: {' '.join(permutation)}, Probability: {prob}\")"
      ],
      "metadata": {
        "colab": {
          "base_uri": "https://localhost:8080/"
        },
        "id": "LKcvpT6Ur0o2",
        "outputId": "7c59ed15-60b0-41b5-baaa-b8aaa90a6b2f"
      },
      "execution_count": 24,
      "outputs": [
        {
          "output_type": "stream",
          "name": "stdout",
          "text": [
            "Sentence: It is a sunny day, Probability: 5.31880895769399\n",
            "Sentence: It is a day sunny, Probability: 0.0\n",
            "Sentence: It is sunny a day, Probability: 0.0\n",
            "Sentence: It is sunny day a, Probability: 0.0\n",
            "Sentence: It is day a sunny, Probability: 0.00044909000496652206\n",
            "Sentence: It is day sunny a, Probability: 0.0\n",
            "Sentence: It a is sunny day, Probability: 0.0\n",
            "Sentence: It a is day sunny, Probability: 0.0\n",
            "Sentence: It a sunny is day, Probability: 0.0\n",
            "Sentence: It a sunny day is, Probability: 0.0\n",
            "Sentence: It a day is sunny, Probability: 0.0\n",
            "Sentence: It a day sunny is, Probability: 0.0\n",
            "Sentence: It sunny is a day, Probability: 0.0\n",
            "Sentence: It sunny is day a, Probability: 0.0\n",
            "Sentence: It sunny a is day, Probability: 0.0\n",
            "Sentence: It sunny a day is, Probability: 0.0\n",
            "Sentence: It sunny day is a, Probability: 0.0\n",
            "Sentence: It sunny day a is, Probability: 0.0\n",
            "Sentence: It day is a sunny, Probability: 0.0\n",
            "Sentence: It day is sunny a, Probability: 0.0\n",
            "Sentence: It day a is sunny, Probability: 0.0\n",
            "Sentence: It day a sunny is, Probability: 0.0\n",
            "Sentence: It day sunny is a, Probability: 0.0\n",
            "Sentence: It day sunny a is, Probability: 0.0\n",
            "Sentence: is It a sunny day, Probability: 0.0\n",
            "Sentence: is It a day sunny, Probability: 0.0\n",
            "Sentence: is It sunny a day, Probability: 0.0\n",
            "Sentence: is It sunny day a, Probability: 0.0\n",
            "Sentence: is It day a sunny, Probability: 0.0\n",
            "Sentence: is It day sunny a, Probability: 0.0\n",
            "Sentence: is a It sunny day, Probability: 0.0\n",
            "Sentence: is a It day sunny, Probability: 0.0\n",
            "Sentence: is a sunny It day, Probability: 0.0\n",
            "Sentence: is a sunny day It, Probability: 0.0\n",
            "Sentence: is a day It sunny, Probability: 0.0\n",
            "Sentence: is a day sunny It, Probability: 0.0\n",
            "Sentence: is sunny It a day, Probability: 0.0\n",
            "Sentence: is sunny It day a, Probability: 0.0\n",
            "Sentence: is sunny a It day, Probability: 0.0\n",
            "Sentence: is sunny a day It, Probability: 0.0\n",
            "Sentence: is sunny day It a, Probability: 0.0\n",
            "Sentence: is sunny day a It, Probability: 0.0\n",
            "Sentence: is day It a sunny, Probability: 0.0\n",
            "Sentence: is day It sunny a, Probability: 0.0\n",
            "Sentence: is day a It sunny, Probability: 0.0\n",
            "Sentence: is day a sunny It, Probability: 0.0\n",
            "Sentence: is day sunny It a, Probability: 0.0\n",
            "Sentence: is day sunny a It, Probability: 0.0\n",
            "Sentence: a It is sunny day, Probability: 0.0\n",
            "Sentence: a It is day sunny, Probability: 0.0\n",
            "Sentence: a It sunny is day, Probability: 0.0\n",
            "Sentence: a It sunny day is, Probability: 0.0\n",
            "Sentence: a It day is sunny, Probability: 0.0\n",
            "Sentence: a It day sunny is, Probability: 0.0\n",
            "Sentence: a is It sunny day, Probability: 0.0\n",
            "Sentence: a is It day sunny, Probability: 0.0\n",
            "Sentence: a is sunny It day, Probability: 0.0\n",
            "Sentence: a is sunny day It, Probability: 0.0\n",
            "Sentence: a is day It sunny, Probability: 0.0\n",
            "Sentence: a is day sunny It, Probability: 0.0\n",
            "Sentence: a sunny It is day, Probability: 0.0\n",
            "Sentence: a sunny It day is, Probability: 0.0\n",
            "Sentence: a sunny is It day, Probability: 0.0\n",
            "Sentence: a sunny is day It, Probability: 0.0\n",
            "Sentence: a sunny day It is, Probability: 0.0\n",
            "Sentence: a sunny day is It, Probability: 0.0\n",
            "Sentence: a day It is sunny, Probability: 0.0\n",
            "Sentence: a day It sunny is, Probability: 0.0\n",
            "Sentence: a day is It sunny, Probability: 0.0\n",
            "Sentence: a day is sunny It, Probability: 0.0\n",
            "Sentence: a day sunny It is, Probability: 0.0\n",
            "Sentence: a day sunny is It, Probability: 0.0\n",
            "Sentence: sunny It is a day, Probability: 0.0\n",
            "Sentence: sunny It is day a, Probability: 0.0\n",
            "Sentence: sunny It a is day, Probability: 0.0\n",
            "Sentence: sunny It a day is, Probability: 0.0\n",
            "Sentence: sunny It day is a, Probability: 0.0\n",
            "Sentence: sunny It day a is, Probability: 0.0\n",
            "Sentence: sunny is It a day, Probability: 0.0\n",
            "Sentence: sunny is It day a, Probability: 0.0\n",
            "Sentence: sunny is a It day, Probability: 0.0\n",
            "Sentence: sunny is a day It, Probability: 0.0\n",
            "Sentence: sunny is day It a, Probability: 0.0\n",
            "Sentence: sunny is day a It, Probability: 0.0\n",
            "Sentence: sunny a It is day, Probability: 0.0\n",
            "Sentence: sunny a It day is, Probability: 0.0\n",
            "Sentence: sunny a is It day, Probability: 0.0\n",
            "Sentence: sunny a is day It, Probability: 0.0\n",
            "Sentence: sunny a day It is, Probability: 0.0\n",
            "Sentence: sunny a day is It, Probability: 0.0\n",
            "Sentence: sunny day It is a, Probability: 0.0\n",
            "Sentence: sunny day It a is, Probability: 0.0\n",
            "Sentence: sunny day is It a, Probability: 0.0\n",
            "Sentence: sunny day is a It, Probability: 0.0\n",
            "Sentence: sunny day a It is, Probability: 0.0\n",
            "Sentence: sunny day a is It, Probability: 0.0\n",
            "Sentence: day It is a sunny, Probability: 0.0\n",
            "Sentence: day It is sunny a, Probability: 0.0\n",
            "Sentence: day It a is sunny, Probability: 0.0\n",
            "Sentence: day It a sunny is, Probability: 0.0\n",
            "Sentence: day It sunny is a, Probability: 0.0\n",
            "Sentence: day It sunny a is, Probability: 0.0\n",
            "Sentence: day is It a sunny, Probability: 0.0\n",
            "Sentence: day is It sunny a, Probability: 0.0\n",
            "Sentence: day is a It sunny, Probability: 0.0\n",
            "Sentence: day is a sunny It, Probability: 0.0\n",
            "Sentence: day is sunny It a, Probability: 0.0\n",
            "Sentence: day is sunny a It, Probability: 0.0\n",
            "Sentence: day a It is sunny, Probability: 0.0\n",
            "Sentence: day a It sunny is, Probability: 0.0\n",
            "Sentence: day a is It sunny, Probability: 0.0\n",
            "Sentence: day a is sunny It, Probability: 0.0\n",
            "Sentence: day a sunny It is, Probability: 0.0\n",
            "Sentence: day a sunny is It, Probability: 0.0\n",
            "Sentence: day sunny It is a, Probability: 0.0\n",
            "Sentence: day sunny It a is, Probability: 0.0\n",
            "Sentence: day sunny is It a, Probability: 0.0\n",
            "Sentence: day sunny is a It, Probability: 0.0\n",
            "Sentence: day sunny a It is, Probability: 0.0\n",
            "Sentence: day sunny a is It, Probability: 0.0\n"
          ]
        }
      ]
    },
    {
      "cell_type": "code",
      "source": [],
      "metadata": {
        "id": "LeeYuhrKr65N"
      },
      "execution_count": null,
      "outputs": []
    }
  ]
}