{
 "cells": [
  {
   "cell_type": "markdown",
   "id": "41619400",
   "metadata": {},
   "source": [
    "### Importing Packages"
   ]
  },
  {
   "cell_type": "code",
   "execution_count": 118,
   "id": "b40effe3",
   "metadata": {},
   "outputs": [],
   "source": [
    "import numpy as np\n",
    "import pandas as pd\n",
    "import string\n",
    "import collections\n",
    "import tensorflow as tf\n",
    "from keras.preprocessing.text import Tokenizer\n",
    "from keras.preprocessing.sequence import pad_sequences\n",
    "from keras.layers import Embedding\n",
    "from keras.layers import LSTM\n",
    "from keras.layers import GRU, Input, Dense, TimeDistributed\n",
    "from keras.models import Model, Sequential\n",
    "from keras.layers import Activation\n",
    "from keras.optimizers import Adam\n",
    "from keras.losses import sparse_categorical_crossentropy\n",
    "import matplotlib.pyplot as plt"
   ]
  },
  {
   "cell_type": "markdown",
   "id": "580a42fa",
   "metadata": {},
   "source": [
    "### Loading the Data - English and Tamil"
   ]
  },
  {
   "cell_type": "code",
   "execution_count": 54,
   "id": "3f7114bc",
   "metadata": {},
   "outputs": [],
   "source": [
    "with open('Data/English.txt','r',encoding=\"utf8\") as file:\n",
    "    english_data = file.readlines()\n",
    "    file.close()"
   ]
  },
  {
   "cell_type": "code",
   "execution_count": 55,
   "id": "f0650831",
   "metadata": {},
   "outputs": [],
   "source": [
    "english_data = english_data[-1000:]"
   ]
  },
  {
   "cell_type": "code",
   "execution_count": 56,
   "id": "f065e3be",
   "metadata": {},
   "outputs": [],
   "source": [
    "english_data[0] = english_data[0].strip('\\ufeff')"
   ]
  },
  {
   "cell_type": "code",
   "execution_count": 57,
   "id": "1e92d528",
   "metadata": {},
   "outputs": [],
   "source": [
    "with open('Data/Tamil.txt','r',encoding=\"utf8\") as file:\n",
    "    tamil_data = file.readlines()\n",
    "    file.close()"
   ]
  },
  {
   "cell_type": "code",
   "execution_count": 58,
   "id": "62f94df6",
   "metadata": {},
   "outputs": [],
   "source": [
    "tamil_data[0] = tamil_data[0].strip('\\ufeff')"
   ]
  },
  {
   "cell_type": "code",
   "execution_count": 59,
   "id": "ca3045ef",
   "metadata": {},
   "outputs": [],
   "source": [
    "tamil_data = tamil_data[-1000:]"
   ]
  },
  {
   "cell_type": "markdown",
   "id": "1743de28",
   "metadata": {},
   "source": [
    "### Text Pre-Processing"
   ]
  },
  {
   "cell_type": "code",
   "execution_count": 60,
   "id": "d8cfd020",
   "metadata": {},
   "outputs": [],
   "source": [
    "exclude = set(string.punctuation)\n",
    "for i in range(0,len(english_data)):\n",
    "    english_data[i] = english_data[i].strip('\\n')\n",
    "    english_data[i] = ''.join(ch for ch in english_data[i] if ch not in exclude)"
   ]
  },
  {
   "cell_type": "code",
   "execution_count": 61,
   "id": "f2dd3bc0",
   "metadata": {},
   "outputs": [],
   "source": [
    "exclude = set(string.punctuation)\n",
    "for i in range(0,len(tamil_data)):\n",
    "    tamil_data[i] = tamil_data[i].strip('\\n')\n",
    "    tamil_data[i] = ''.join(ch for ch in tamil_data[i] if ch not in exclude)"
   ]
  },
  {
   "cell_type": "code",
   "execution_count": 62,
   "id": "d7cf8b96",
   "metadata": {},
   "outputs": [
    {
     "data": {
      "text/plain": [
       "(1000, 1000)"
      ]
     },
     "execution_count": 62,
     "metadata": {},
     "output_type": "execute_result"
    }
   ],
   "source": [
    "len(english_data),len(tamil_data)"
   ]
  },
  {
   "cell_type": "code",
   "execution_count": 63,
   "id": "941e2b0f",
   "metadata": {},
   "outputs": [
    {
     "name": "stdout",
     "output_type": "stream",
     "text": [
      "English Text: Brown has insisted that this time round such a catastrophic devaluation would not occur due to careful economic management on his part and the greater flexibility of British workers his government had achieved  a reference to diminution of workers rights and lower wage rates in comparison with many western European countries\n",
      "Tamil Text: தனது பங்கைப் பொறுத்தவரையில் பொருளாதார நிர்வாகம் அக்கறையுடன் கவனிக்கப்படுகிறது என்பதாலும் பிரிட்டிஷ் தொழிலாளர்களின் நெகிழ்வு தன்மையை அவர்களுடைய அரசாங்கம் சாதித்திருப்பதாலும் இந்தத் தடவை அவ்வாறு பேரழிவு நிலைக்கு பவுண்ட் மதிப்புக் குறைவு தோன்றாது என்று பிரெளன் வலியுறுத்தி இருக்கிறார்\n"
     ]
    }
   ],
   "source": [
    "print(f\"English Text: {english_data[9]}\\nTamil Text: {tamil_data[9]}\")"
   ]
  },
  {
   "cell_type": "code",
   "execution_count": 64,
   "id": "a5b4e6b1",
   "metadata": {},
   "outputs": [],
   "source": [
    "english_words_list = []\n",
    "for i in range(len(english_data)):\n",
    "    english_words_list.append(english_data[i].split())"
   ]
  },
  {
   "cell_type": "code",
   "execution_count": 65,
   "id": "d3fc0a8d",
   "metadata": {},
   "outputs": [],
   "source": [
    "english_words_list = [j for sub in english_words_list for j in sub]"
   ]
  },
  {
   "cell_type": "code",
   "execution_count": 67,
   "id": "e446cca2",
   "metadata": {},
   "outputs": [],
   "source": [
    "tamil_words_list = []\n",
    "for i in range(0,len(tamil_data)):\n",
    "    tamil_words_list.append(tamil_data[i].split())  "
   ]
  },
  {
   "cell_type": "code",
   "execution_count": 68,
   "id": "38a01b79",
   "metadata": {},
   "outputs": [],
   "source": [
    "tamil_words_list = [j for sub in tamil_words_list for j in sub]"
   ]
  },
  {
   "cell_type": "code",
   "execution_count": 73,
   "id": "ecfc8d7b",
   "metadata": {},
   "outputs": [
    {
     "name": "stdout",
     "output_type": "stream",
     "text": [
      "Number of Unique Tamil Words: 9413\n",
      "Number of Unique English Words: 5858\n"
     ]
    }
   ],
   "source": [
    "print(f\"Number of Unique Tamil Words: {len(set(tamil_words_list))}\\nNumber of Unique English Words: {len(set(english_words_list))}\")"
   ]
  },
  {
   "cell_type": "code",
   "execution_count": 74,
   "id": "4d6e6f4e",
   "metadata": {},
   "outputs": [],
   "source": [
    "tamilvocab = len(set(tamil_words_list))\n",
    "engvocab = len(set(english_words_list))"
   ]
  },
  {
   "cell_type": "code",
   "execution_count": 77,
   "id": "308042cb",
   "metadata": {},
   "outputs": [],
   "source": [
    "english_words_counter = collections.Counter([word for sentence in english_data for word in sentence.split()])\n",
    "tamil_words_counter = collections.Counter([word for sentence in tamil_data for word in sentence.split()])"
   ]
  },
  {
   "cell_type": "markdown",
   "id": "b765760f",
   "metadata": {},
   "source": [
    "### Most Common Words"
   ]
  },
  {
   "cell_type": "code",
   "execution_count": 78,
   "id": "f78ef9a0",
   "metadata": {},
   "outputs": [
    {
     "data": {
      "text/plain": [
       "[('the', 1765),\n",
       " ('of', 879),\n",
       " ('and', 747),\n",
       " ('to', 654),\n",
       " ('in', 529),\n",
       " ('a', 395),\n",
       " ('that', 284),\n",
       " ('is', 274),\n",
       " ('for', 201),\n",
       " ('The', 182)]"
      ]
     },
     "execution_count": 78,
     "metadata": {},
     "output_type": "execute_result"
    }
   ],
   "source": [
    "english_words_counter.most_common(10)"
   ]
  },
  {
   "cell_type": "code",
   "execution_count": 79,
   "id": "ee69a717",
   "metadata": {},
   "outputs": [
    {
     "data": {
      "text/plain": [
       "[('ஒரு', 165),\n",
       " ('மற்றும்', 143),\n",
       " ('என்று', 126),\n",
       " ('இந்த', 79),\n",
       " ('என்ற', 70),\n",
       " ('அவர்', 68),\n",
       " ('அவர்கள்', 53),\n",
       " ('அது', 52),\n",
       " ('என', 49),\n",
       " ('அரசியல்', 47)]"
      ]
     },
     "execution_count": 79,
     "metadata": {},
     "output_type": "execute_result"
    }
   ],
   "source": [
    "tamil_words_counter.most_common(10)"
   ]
  },
  {
   "cell_type": "markdown",
   "id": "83920140",
   "metadata": {},
   "source": [
    "### Tokenizer and Padding"
   ]
  },
  {
   "cell_type": "code",
   "execution_count": 83,
   "id": "ba2b747f",
   "metadata": {},
   "outputs": [],
   "source": [
    "def tokenize(x):\n",
    "    tokenizer = Tokenizer()\n",
    "    tokenizer.fit_on_texts(x) \n",
    "    return tokenizer.texts_to_sequences(x), tokenizer"
   ]
  },
  {
   "cell_type": "code",
   "execution_count": 95,
   "id": "8a6f37b8",
   "metadata": {},
   "outputs": [
    {
     "name": "stdout",
     "output_type": "stream",
     "text": [
      "[[9], [10], [1], [11], [7], [15], [9], [], [4], [14], [1], [14], [8], [13], [1], [13], [3], [9], [1], [], [9], [13], [12], [], [7], [22], [10], [8], [11], [8], [7], [1], [7], [3], [5], [1], [5], [7], [6], [11], [7], [3], [], [11], [6], [10], [2], [1], [2], [23], [2], [1], [2], [6], [2], [], [2], [16], [3], [4], [12], [17], [6], [14], [], [4], [15], [6], [7], [19], [1], [2], [5], [3], [2], [1], [2], [8], [16], [12], [17], [8], [19], [1], [], [9], [8], [2], [1], [2], [8], [17], [8], [10], [3], [18], [1], [7], [], [4], [2], [1], [2], [5], [1], [], [4], [3], [2], [6], [4], [1], [2], [5], [3], [2], [1], [2], [3], [], [11], [18], [1], [7], [16], [12], [18], [1], [7], [3], [5], [1], [5], [6], [10], [1], [2], [5], [1], [], [24], [11], [10], [1], [2], [5], [1], [], [25], [10], [3], [11], [15], [5], [12], [], [4], [15], [6], [9], [4], [6], [2], [], [2], [6], [17], [4], [16], [12], [18], [1], [7], [3], [], [13], [15], [6], [9], [6], [2], [1], [2], [8], [14], [1], [20], [8], [], [13], [19], [11], [26], [14], [4], [16], [12], [18], [1], [7], [3], [], [4], [20], [1], [20], [3], [4], [1], [], [4], [14], [], [21], [5], [12], [9], [1], [9], [19], [3], [2], [1], [2], [3], [], [21], [5], [1], [5], [6], [2], [8], [17], [8], [10], [3], [13], [1], [13], [10], [1]]\n"
     ]
    }
   ],
   "source": [
    "##Sample\n",
    "print(tokenize(tamil_data[99])[0])"
   ]
  },
  {
   "cell_type": "code",
   "execution_count": 97,
   "id": "297dbc86",
   "metadata": {},
   "outputs": [],
   "source": [
    "def pad(x, length=None):\n",
    "    return pad_sequences(x, maxlen=length, padding='post')"
   ]
  },
  {
   "cell_type": "code",
   "execution_count": 98,
   "id": "96e2be0d",
   "metadata": {},
   "outputs": [],
   "source": [
    "### Wrapping and putting together in a single function\n",
    "def preprocess(x, y):\n",
    "    preprocess_x, x_tk = tokenize(x)\n",
    "    preprocess_y, y_tk = tokenize(y)\n",
    "\n",
    "    preprocess_x = pad(preprocess_x)\n",
    "    preprocess_y = pad(preprocess_y)\n",
    "\n",
    "    print('shape before: ', preprocess_y.shape)\n",
    "    preprocess_y = preprocess_y.reshape(*preprocess_y.shape, 1)\n",
    "    print('shape after: ', preprocess_y.shape)\n",
    "        \n",
    "    return preprocess_x, preprocess_y, x_tk, y_tk"
   ]
  },
  {
   "cell_type": "code",
   "execution_count": 99,
   "id": "442944e0",
   "metadata": {},
   "outputs": [],
   "source": [
    "preprocess_x, x_tk = tokenize(tamil_data)"
   ]
  },
  {
   "cell_type": "code",
   "execution_count": 100,
   "id": "7efa23c8",
   "metadata": {},
   "outputs": [],
   "source": [
    "preprocess_x = pad(preprocess_x)"
   ]
  },
  {
   "cell_type": "code",
   "execution_count": 101,
   "id": "efab18c7",
   "metadata": {},
   "outputs": [
    {
     "data": {
      "text/plain": [
       "(1000, 54)"
      ]
     },
     "execution_count": 101,
     "metadata": {},
     "output_type": "execute_result"
    }
   ],
   "source": [
    "preprocess_x.shape"
   ]
  },
  {
   "cell_type": "code",
   "execution_count": 102,
   "id": "cb6044e2",
   "metadata": {},
   "outputs": [
    {
     "name": "stdout",
     "output_type": "stream",
     "text": [
      "shape before:  (1000, 74)\n",
      "shape after:  (1000, 74, 1)\n"
     ]
    }
   ],
   "source": [
    "preproc_tamil_sentences, preproc_english_sentences, tamil_tokenizer, english_tokenizer = preprocess(tamil_data, english_data)"
   ]
  },
  {
   "cell_type": "code",
   "execution_count": 105,
   "id": "222dd794",
   "metadata": {},
   "outputs": [
    {
     "data": {
      "text/plain": [
       "[('ஒரு', 1), ('மற்றும்', 2)]"
      ]
     },
     "execution_count": 105,
     "metadata": {},
     "output_type": "execute_result"
    }
   ],
   "source": [
    "list(tamil_tokenizer.word_index.items())[:2]"
   ]
  },
  {
   "cell_type": "code",
   "execution_count": 106,
   "id": "eb9ca038",
   "metadata": {},
   "outputs": [
    {
     "data": {
      "text/plain": [
       "[('the', 1), ('of', 2)]"
      ]
     },
     "execution_count": 106,
     "metadata": {},
     "output_type": "execute_result"
    }
   ],
   "source": [
    "list(english_tokenizer.word_index.items())[:2]"
   ]
  },
  {
   "cell_type": "markdown",
   "id": "c73661c6",
   "metadata": {},
   "source": [
    "### Logits To Text"
   ]
  },
  {
   "cell_type": "code",
   "execution_count": 107,
   "id": "a2c6fa59",
   "metadata": {},
   "outputs": [],
   "source": [
    "def logits_to_text(logits, tokenizer):\n",
    "\n",
    "    index_to_words = {id: word for word, id in tokenizer.word_index.items()}\n",
    "    index_to_words[0] = '<PAD>'\n",
    "\n",
    "    return ' '.join([index_to_words[prediction] for prediction in np.argmax(logits, 1)])"
   ]
  },
  {
   "cell_type": "markdown",
   "id": "f594d02d",
   "metadata": {},
   "source": [
    "### Data Shapes"
   ]
  },
  {
   "cell_type": "code",
   "execution_count": 108,
   "id": "791231ee",
   "metadata": {},
   "outputs": [
    {
     "name": "stdout",
     "output_type": "stream",
     "text": [
      "Tamil Sentences Shape:  (1000, 74, 1)\n",
      "English Sentences  Shape:  (1000, 54)\n",
      "Output Sequence Length:  74\n"
     ]
    }
   ],
   "source": [
    "print(\"Tamil Sentences Shape: \", preproc_english_sentences.shape)\n",
    "print(\"English Sentences  Shape: \", preproc_tamil_sentences.shape)\n",
    "print('Output Sequence Length: ', preproc_english_sentences.shape[1])"
   ]
  },
  {
   "cell_type": "markdown",
   "id": "bdb95556",
   "metadata": {},
   "source": [
    "### Model Building"
   ]
  },
  {
   "cell_type": "code",
   "execution_count": 111,
   "id": "e4931264",
   "metadata": {},
   "outputs": [],
   "source": [
    "def embed_model(input_shape, output_sequence_length, tamil_vocab_size, english_vocab_size, learning_rate=0.1):\n",
    "    model = Sequential()\n",
    "    model.add(Embedding(max(tamil_vocab_size, english_vocab_size) ,128 , input_length=output_sequence_length))\n",
    "    model.add(LSTM(128, dropout=0.1, return_sequences=True))\n",
    "    model.add(Dense(english_vocab_size, activation='softmax'))\n",
    "    model.summary()\n",
    "    model.compile(loss=sparse_categorical_crossentropy,\n",
    "                  optimizer=Adam(learning_rate),\n",
    "                  metrics=['accuracy'])\n",
    "    \n",
    "    return model"
   ]
  },
  {
   "cell_type": "code",
   "execution_count": 112,
   "id": "7b4c2b97",
   "metadata": {},
   "outputs": [],
   "source": [
    "tmp_x = pad(preproc_tamil_sentences, preproc_english_sentences.shape[1])"
   ]
  },
  {
   "cell_type": "code",
   "execution_count": 116,
   "id": "bad8c468",
   "metadata": {},
   "outputs": [
    {
     "name": "stdout",
     "output_type": "stream",
     "text": [
      "Model: \"sequential\"\n",
      "_________________________________________________________________\n",
      " Layer (type)                Output Shape              Param #   \n",
      "=================================================================\n",
      " embedding (Embedding)       (None, 74, 128)           1204736   \n",
      "                                                                 \n",
      " lstm (LSTM)                 (None, 74, 128)           131584    \n",
      "                                                                 \n",
      " dense (Dense)               (None, 74, 5520)          712080    \n",
      "                                                                 \n",
      "=================================================================\n",
      "Total params: 2048400 (7.81 MB)\n",
      "Trainable params: 2048400 (7.81 MB)\n",
      "Non-trainable params: 0 (0.00 Byte)\n",
      "_________________________________________________________________\n"
     ]
    }
   ],
   "source": [
    "model = embed_model(\n",
    "    tmp_x.shape,\n",
    "    preproc_english_sentences.shape[1],\n",
    "    len(tamil_tokenizer.word_index)+1,\n",
    "    len(english_tokenizer.word_index)+1)"
   ]
  },
  {
   "cell_type": "code",
   "execution_count": 117,
   "id": "20ba34d7",
   "metadata": {},
   "outputs": [
    {
     "name": "stdout",
     "output_type": "stream",
     "text": [
      "Epoch 1/20\n",
      "8/8 [==============================] - 5s 406ms/step - loss: 6.1018 - accuracy: 0.5132 - val_loss: 6.4929 - val_accuracy: 0.6841\n",
      "Epoch 2/20\n",
      "8/8 [==============================] - 3s 364ms/step - loss: 5.4095 - accuracy: 0.6812 - val_loss: 5.8156 - val_accuracy: 0.6700\n",
      "Epoch 3/20\n",
      "8/8 [==============================] - 3s 343ms/step - loss: 3.7978 - accuracy: 0.6798 - val_loss: 3.9655 - val_accuracy: 0.6867\n",
      "Epoch 4/20\n",
      "8/8 [==============================] - 3s 341ms/step - loss: 2.9428 - accuracy: 0.6866 - val_loss: 3.4010 - val_accuracy: 0.6874\n",
      "Epoch 5/20\n",
      "8/8 [==============================] - 3s 336ms/step - loss: 2.4639 - accuracy: 0.6906 - val_loss: 3.3079 - val_accuracy: 0.6890\n",
      "Epoch 6/20\n",
      "8/8 [==============================] - 3s 340ms/step - loss: 2.1766 - accuracy: 0.6935 - val_loss: 3.2678 - val_accuracy: 0.6885\n",
      "Epoch 7/20\n",
      "8/8 [==============================] - 3s 343ms/step - loss: 1.9823 - accuracy: 0.6997 - val_loss: 3.3014 - val_accuracy: 0.6853\n",
      "Epoch 8/20\n",
      "8/8 [==============================] - 3s 340ms/step - loss: 1.8203 - accuracy: 0.7095 - val_loss: 3.3388 - val_accuracy: 0.6851\n",
      "Epoch 9/20\n",
      "8/8 [==============================] - 3s 344ms/step - loss: 1.7017 - accuracy: 0.7207 - val_loss: 3.4242 - val_accuracy: 0.6854\n",
      "Epoch 10/20\n",
      "8/8 [==============================] - 3s 340ms/step - loss: 1.6058 - accuracy: 0.7275 - val_loss: 3.4514 - val_accuracy: 0.6785\n",
      "Epoch 11/20\n",
      "8/8 [==============================] - 3s 346ms/step - loss: 1.5201 - accuracy: 0.7360 - val_loss: 3.4773 - val_accuracy: 0.6823\n",
      "Epoch 12/20\n",
      "8/8 [==============================] - 3s 339ms/step - loss: 1.4435 - accuracy: 0.7442 - val_loss: 3.5319 - val_accuracy: 0.6821\n",
      "Epoch 13/20\n",
      "8/8 [==============================] - 3s 338ms/step - loss: 1.3788 - accuracy: 0.7520 - val_loss: 3.5906 - val_accuracy: 0.6778\n",
      "Epoch 14/20\n",
      "8/8 [==============================] - 3s 343ms/step - loss: 1.3197 - accuracy: 0.7596 - val_loss: 3.6599 - val_accuracy: 0.6789\n",
      "Epoch 15/20\n",
      "8/8 [==============================] - 3s 330ms/step - loss: 1.2725 - accuracy: 0.7658 - val_loss: 3.6837 - val_accuracy: 0.6774\n",
      "Epoch 16/20\n",
      "8/8 [==============================] - 3s 328ms/step - loss: 1.2175 - accuracy: 0.7741 - val_loss: 3.7229 - val_accuracy: 0.6767\n",
      "Epoch 17/20\n",
      "8/8 [==============================] - 3s 328ms/step - loss: 1.1720 - accuracy: 0.7797 - val_loss: 3.7661 - val_accuracy: 0.6773\n",
      "Epoch 18/20\n",
      "8/8 [==============================] - 3s 325ms/step - loss: 1.1378 - accuracy: 0.7853 - val_loss: 3.7822 - val_accuracy: 0.6773\n",
      "Epoch 19/20\n",
      "8/8 [==============================] - 3s 328ms/step - loss: 1.1139 - accuracy: 0.7909 - val_loss: 3.8494 - val_accuracy: 0.6806\n",
      "Epoch 20/20\n",
      "8/8 [==============================] - 3s 329ms/step - loss: 1.0732 - accuracy: 0.7953 - val_loss: 3.8875 - val_accuracy: 0.6752\n"
     ]
    }
   ],
   "source": [
    "history = model.fit(tmp_x, preproc_english_sentences, batch_size=100, epochs=20, validation_split=0.2)"
   ]
  },
  {
   "cell_type": "markdown",
   "id": "60d3f428",
   "metadata": {},
   "source": [
    "### Loss Insights"
   ]
  },
  {
   "cell_type": "code",
   "execution_count": 119,
   "id": "9fdc0f3f",
   "metadata": {},
   "outputs": [
    {
     "data": {
      "image/png": "[encoded data removed]",
      "text/plain": [
       "<Figure size 1000x600 with 1 Axes>"
      ]
     },
     "metadata": {},
     "output_type": "display_data"
    }
   ],
   "source": [
    "plt.figure(figsize=(10,6))\n",
    "plt.plot(history.history['loss'])\n",
    "plt.plot(history.history['val_loss'])\n",
    "plt.title('Loss')\n",
    "plt.ylabel('loss')\n",
    "plt.xlabel('epoch')\n",
    "plt.legend(['train', 'test'], loc='upper left')\n",
    "plt.show()"
   ]
  },
  {
   "cell_type": "markdown",
   "id": "dbe944bc",
   "metadata": {},
   "source": [
    "### Eval and Inference"
   ]
  },
  {
   "cell_type": "code",
   "execution_count": 120,
   "id": "fddc58cf",
   "metadata": {},
   "outputs": [
    {
     "name": "stdout",
     "output_type": "stream",
     "text": [
      "Train accurancy:  0.7912973165512085\n"
     ]
    }
   ],
   "source": [
    "acc = model.evaluate(tmp_x, preproc_english_sentences, verbose=0)\n",
    "print(\"Train accurancy: \", acc[1])"
   ]
  },
  {
   "cell_type": "code",
   "execution_count": 122,
   "id": "cf942c3c",
   "metadata": {},
   "outputs": [
    {
     "data": {
      "text/plain": [
       "'பள்ளி மாணவர்கள் மற்றும் பல்கலைக்கழக மாணவர்கள் பிரான்ஸ் நெடுகிலும் நெடுஞ்சாலைகள் வீதிகள் ஆகியவற்றை தடுப்புக்களுக்கு உட்படுத்திய வகையில் நேற்று இன்னும் கூடுதலான கைதுகள் நிகழ்த்தப்பட்டன'"
      ]
     },
     "execution_count": 122,
     "metadata": {},
     "output_type": "execute_result"
    }
   ],
   "source": [
    "### Inference\n",
    "tamil_data[10]"
   ]
  },
  {
   "cell_type": "code",
   "execution_count": 123,
   "id": "65a46bc3",
   "metadata": {},
   "outputs": [
    {
     "name": "stdout",
     "output_type": "stream",
     "text": [
      "4/4 [==============================] - 0s 36ms/step\n"
     ]
    }
   ],
   "source": [
    "desc_trans = logits_to_text(model.predict(tmp_x[:100])[10], english_tokenizer)"
   ]
  },
  {
   "cell_type": "code",
   "execution_count": 131,
   "id": "d11f4079",
   "metadata": {},
   "outputs": [
    {
     "data": {
      "text/plain": [
       "'further arrests outlawing reported yesterday in high school in university students blockaded for at the disrupting traffic across '"
      ]
     },
     "execution_count": 131,
     "metadata": {},
     "output_type": "execute_result"
    }
   ],
   "source": [
    "desc_trans[:130]"
   ]
  },
  {
   "cell_type": "code",
   "execution_count": 135,
   "id": "dc9dfed6",
   "metadata": {},
   "outputs": [
    {
     "data": {
      "text/plain": [
       "array([2066,  337,    2,  985,  337,  183, 2067, 2068, 2069,  625, 2070,\n",
       "       2071,   26,  338,   58,  263, 2072, 2073,    0,    0,    0,    0,\n",
       "          0,    0,    0,    0,    0,    0,    0,    0,    0,    0,    0,\n",
       "          0,    0,    0,    0,    0,    0,    0,    0,    0,    0,    0,\n",
       "          0,    0,    0,    0,    0,    0,    0,    0,    0,    0,    0,\n",
       "          0,    0,    0,    0,    0,    0,    0,    0,    0,    0,    0,\n",
       "          0,    0,    0,    0,    0,    0,    0,    0])"
      ]
     },
     "execution_count": 135,
     "metadata": {},
     "output_type": "execute_result"
    }
   ],
   "source": [
    "tmp_x[:100][10]"
   ]
  },
  {
   "cell_type": "markdown",
   "id": "1d2cd53b",
   "metadata": {},
   "source": [
    "### Test Data"
   ]
  },
  {
   "cell_type": "code",
   "execution_count": 148,
   "id": "fafcc99c",
   "metadata": {},
   "outputs": [],
   "source": [
    "tamil_sentence = ['பள்ளி மாணவர்கள் மற்றும் பல்கலைக்கழக மாணவர்கள் பிரான்ஸ் நெடுகிலும் நெடுஞ்சாலைகள் வீதிகள் ஆகியவற்றை தடுப்புக்களுக்கு உட்படுத்திய வகையில் நேற்று இன்னும் கூடுதலான கைதுகள் நிகழ்த்தப்பட்டன']"
   ]
  },
  {
   "cell_type": "code",
   "execution_count": 149,
   "id": "3dd352a6",
   "metadata": {},
   "outputs": [],
   "source": [
    "preprocess_x, x_tk = tokenize(tamil_sentence)"
   ]
  },
  {
   "cell_type": "code",
   "execution_count": 150,
   "id": "163f657d",
   "metadata": {},
   "outputs": [],
   "source": [
    "preprocess_x = pad(preprocess_x)"
   ]
  },
  {
   "cell_type": "code",
   "execution_count": 151,
   "id": "5516fac5",
   "metadata": {},
   "outputs": [
    {
     "data": {
      "text/plain": [
       "array([[ 2,  1,  3,  4,  1,  5,  6,  7,  8,  9, 10, 11, 12, 13, 14, 15,\n",
       "        16, 17]])"
      ]
     },
     "execution_count": 151,
     "metadata": {},
     "output_type": "execute_result"
    }
   ],
   "source": [
    "preprocess_x"
   ]
  },
  {
   "cell_type": "code",
   "execution_count": 152,
   "id": "14e52049",
   "metadata": {},
   "outputs": [
    {
     "name": "stdout",
     "output_type": "stream",
     "text": [
      "1/1 [==============================] - 0s 17ms/step\n"
     ]
    }
   ],
   "source": [
    "translation_logits = model.predict(preprocess_x)"
   ]
  }
 ],
 "metadata": {
  "kernelspec": {
   "display_name": "Python 3 (ipykernel)",
   "language": "python",
   "name": "python3"
  },
  "language_info": {
   "codemirror_mode": {
    "name": "ipython",
    "version": 3
   },
   "file_extension": ".py",
   "mimetype": "text/x-python",
   "name": "python",
   "nbconvert_exporter": "python",
   "pygments_lexer": "ipython3",
   "version": "3.11.4"
  }
 },
 "nbformat": 4,
 "nbformat_minor": 5
}
