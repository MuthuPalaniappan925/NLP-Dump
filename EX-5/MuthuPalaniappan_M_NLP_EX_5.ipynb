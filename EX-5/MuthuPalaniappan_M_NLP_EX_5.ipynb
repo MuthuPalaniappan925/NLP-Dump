{
 "cells": [
  {
   "cell_type": "markdown",
   "metadata": {},
   "source": [
    "### Muthu Palaniappan M - NLP LAB EX 5"
   ]
  },
  {
   "cell_type": "markdown",
   "metadata": {},
   "source": [
    "### Importing Pacakges"
   ]
  },
  {
   "cell_type": "code",
   "execution_count": 1,
   "metadata": {
    "_cell_guid": "b1076dfc-b9ad-4769-8c92-a6c4dae69d19",
    "_uuid": "8f2839f25d086af736a60e9eeb907d3b93b6e0e5",
    "execution": {
     "iopub.execute_input": "2024-02-25T09:44:26.506632Z",
     "iopub.status.busy": "2024-02-25T09:44:26.506042Z",
     "iopub.status.idle": "2024-02-25T09:44:28.027697Z",
     "shell.execute_reply": "2024-02-25T09:44:28.026046Z",
     "shell.execute_reply.started": "2024-02-25T09:44:26.506533Z"
    }
   },
   "outputs": [],
   "source": [
    "import numpy as np \n",
    "import pandas as pd\n",
    "from sklearn.model_selection import GroupShuffleSplit\n",
    "from hmmlearn import hmm\n",
    "from sklearn.metrics import confusion_matrix, classification_report, accuracy_score, precision_score, recall_score, f1_score, roc_auc_score\n"
   ]
  },
  {
   "cell_type": "markdown",
   "metadata": {},
   "source": [
    "### Loading Data"
   ]
  },
  {
   "cell_type": "code",
   "execution_count": 35,
   "metadata": {
    "execution": {
     "iopub.execute_input": "2024-02-25T10:08:21.578915Z",
     "iopub.status.busy": "2024-02-25T10:08:21.578542Z",
     "iopub.status.idle": "2024-02-25T10:08:22.270819Z",
     "shell.execute_reply": "2024-02-25T10:08:22.269815Z",
     "shell.execute_reply.started": "2024-02-25T10:08:21.578853Z"
    }
   },
   "outputs": [
    {
     "data": {
      "text/html": [
       "<div>\n",
       "<style scoped>\n",
       "    .dataframe tbody tr th:only-of-type {\n",
       "        vertical-align: middle;\n",
       "    }\n",
       "\n",
       "    .dataframe tbody tr th {\n",
       "        vertical-align: top;\n",
       "    }\n",
       "\n",
       "    .dataframe thead th {\n",
       "        text-align: right;\n",
       "    }\n",
       "</style>\n",
       "<table border=\"1\" class=\"dataframe\">\n",
       "  <thead>\n",
       "    <tr style=\"text-align: right;\">\n",
       "      <th></th>\n",
       "      <th>Sentence #</th>\n",
       "      <th>Word</th>\n",
       "      <th>POS</th>\n",
       "      <th>Tag</th>\n",
       "    </tr>\n",
       "  </thead>\n",
       "  <tbody>\n",
       "    <tr>\n",
       "      <th>0</th>\n",
       "      <td>Sentence: 1</td>\n",
       "      <td>Thousands</td>\n",
       "      <td>NNS</td>\n",
       "      <td>O</td>\n",
       "    </tr>\n",
       "    <tr>\n",
       "      <th>1</th>\n",
       "      <td>NaN</td>\n",
       "      <td>of</td>\n",
       "      <td>IN</td>\n",
       "      <td>O</td>\n",
       "    </tr>\n",
       "    <tr>\n",
       "      <th>2</th>\n",
       "      <td>NaN</td>\n",
       "      <td>demonstrators</td>\n",
       "      <td>NNS</td>\n",
       "      <td>O</td>\n",
       "    </tr>\n",
       "    <tr>\n",
       "      <th>3</th>\n",
       "      <td>NaN</td>\n",
       "      <td>have</td>\n",
       "      <td>VBP</td>\n",
       "      <td>O</td>\n",
       "    </tr>\n",
       "    <tr>\n",
       "      <th>4</th>\n",
       "      <td>NaN</td>\n",
       "      <td>marched</td>\n",
       "      <td>VBN</td>\n",
       "      <td>O</td>\n",
       "    </tr>\n",
       "  </tbody>\n",
       "</table>\n",
       "</div>"
      ],
      "text/plain": [
       "    Sentence #           Word  POS Tag\n",
       "0  Sentence: 1      Thousands  NNS   O\n",
       "1          NaN             of   IN   O\n",
       "2          NaN  demonstrators  NNS   O\n",
       "3          NaN           have  VBP   O\n",
       "4          NaN        marched  VBN   O"
      ]
     },
     "execution_count": 35,
     "metadata": {},
     "output_type": "execute_result"
    }
   ],
   "source": [
    "data = pd.read_csv(\"ner_data.csv\", encoding='latin1')\n",
    "data.head()"
   ]
  },
  {
   "cell_type": "markdown",
   "metadata": {},
   "source": [
    "### Data Cleaning"
   ]
  },
  {
   "cell_type": "code",
   "execution_count": 36,
   "metadata": {
    "execution": {
     "iopub.execute_input": "2024-02-25T10:08:34.924204Z",
     "iopub.status.busy": "2024-02-25T10:08:34.923842Z",
     "iopub.status.idle": "2024-02-25T10:08:35.589218Z",
     "shell.execute_reply": "2024-02-25T10:08:35.588240Z",
     "shell.execute_reply.started": "2024-02-25T10:08:34.924164Z"
    }
   },
   "outputs": [
    {
     "data": {
      "text/html": [
       "<div>\n",
       "<style scoped>\n",
       "    .dataframe tbody tr th:only-of-type {\n",
       "        vertical-align: middle;\n",
       "    }\n",
       "\n",
       "    .dataframe tbody tr th {\n",
       "        vertical-align: top;\n",
       "    }\n",
       "\n",
       "    .dataframe thead th {\n",
       "        text-align: right;\n",
       "    }\n",
       "</style>\n",
       "<table border=\"1\" class=\"dataframe\">\n",
       "  <thead>\n",
       "    <tr style=\"text-align: right;\">\n",
       "      <th></th>\n",
       "      <th>sentence</th>\n",
       "      <th>Word</th>\n",
       "      <th>POS</th>\n",
       "      <th>Tag</th>\n",
       "    </tr>\n",
       "  </thead>\n",
       "  <tbody>\n",
       "    <tr>\n",
       "      <th>0</th>\n",
       "      <td>Sentence: 1</td>\n",
       "      <td>Thousands</td>\n",
       "      <td>NNS</td>\n",
       "      <td>O</td>\n",
       "    </tr>\n",
       "    <tr>\n",
       "      <th>1</th>\n",
       "      <td>Sentence: 1</td>\n",
       "      <td>of</td>\n",
       "      <td>IN</td>\n",
       "      <td>O</td>\n",
       "    </tr>\n",
       "    <tr>\n",
       "      <th>2</th>\n",
       "      <td>Sentence: 1</td>\n",
       "      <td>demonstrators</td>\n",
       "      <td>NNS</td>\n",
       "      <td>O</td>\n",
       "    </tr>\n",
       "    <tr>\n",
       "      <th>3</th>\n",
       "      <td>Sentence: 1</td>\n",
       "      <td>have</td>\n",
       "      <td>VBP</td>\n",
       "      <td>O</td>\n",
       "    </tr>\n",
       "    <tr>\n",
       "      <th>4</th>\n",
       "      <td>Sentence: 1</td>\n",
       "      <td>marched</td>\n",
       "      <td>VBN</td>\n",
       "      <td>O</td>\n",
       "    </tr>\n",
       "  </tbody>\n",
       "</table>\n",
       "</div>"
      ],
      "text/plain": [
       "      sentence           Word  POS Tag\n",
       "0  Sentence: 1      Thousands  NNS   O\n",
       "1  Sentence: 1             of   IN   O\n",
       "2  Sentence: 1  demonstrators  NNS   O\n",
       "3  Sentence: 1           have  VBP   O\n",
       "4  Sentence: 1        marched  VBN   O"
      ]
     },
     "execution_count": 36,
     "metadata": {},
     "output_type": "execute_result"
    }
   ],
   "source": [
    "data = data.fillna(method=\"ffill\")\n",
    "data = data.rename(columns={'Sentence #': 'sentence'})\n",
    "data.head(5)"
   ]
  },
  {
   "cell_type": "code",
   "execution_count": 38,
   "metadata": {
    "execution": {
     "iopub.execute_input": "2024-02-25T10:08:55.954357Z",
     "iopub.status.busy": "2024-02-25T10:08:55.954049Z",
     "iopub.status.idle": "2024-02-25T10:08:56.126157Z",
     "shell.execute_reply": "2024-02-25T10:08:56.125508Z",
     "shell.execute_reply.started": "2024-02-25T10:08:55.954326Z"
    }
   },
   "outputs": [
    {
     "data": {
      "text/plain": [
       "'Thousands of demonstrators have marched through London to protest the war in Iraq and demand the withdrawal of British troops from that country .'"
      ]
     },
     "execution_count": 38,
     "metadata": {},
     "output_type": "execute_result"
    }
   ],
   "source": [
    "' '.join(data[data['sentence'] == 'Sentence: 1'].Word.tolist())"
   ]
  },
  {
   "cell_type": "code",
   "execution_count": 39,
   "metadata": {
    "execution": {
     "iopub.execute_input": "2024-02-25T10:09:12.911097Z",
     "iopub.status.busy": "2024-02-25T10:09:12.910429Z",
     "iopub.status.idle": "2024-02-25T10:09:13.046826Z",
     "shell.execute_reply": "2024-02-25T10:09:13.045408Z",
     "shell.execute_reply.started": "2024-02-25T10:09:12.911060Z"
    }
   },
   "outputs": [],
   "source": [
    "tags = list(set(data.Tag.values)) \n",
    "words = list(set(data.Word.values))"
   ]
  },
  {
   "cell_type": "code",
   "execution_count": 41,
   "metadata": {
    "execution": {
     "iopub.execute_input": "2024-02-25T10:09:32.937519Z",
     "iopub.status.busy": "2024-02-25T10:09:32.937188Z",
     "iopub.status.idle": "2024-02-25T10:09:32.943620Z",
     "shell.execute_reply": "2024-02-25T10:09:32.942499Z",
     "shell.execute_reply.started": "2024-02-25T10:09:32.937485Z"
    }
   },
   "outputs": [
    {
     "name": "stdout",
     "output_type": "stream",
     "text": [
      "Total Tags: 17\n",
      "\n",
      "['O', 'I-geo', 'I-per', 'I-eve', 'B-gpe', 'B-art', 'B-per', 'I-gpe', 'I-nat', 'B-eve', 'I-org', 'I-tim', 'B-geo', 'I-art', 'B-org', 'B-nat', 'B-tim']\n"
     ]
    }
   ],
   "source": [
    "print(f\"Total Tags: {len(tags)}\")\n",
    "print()\n",
    "print(tags)"
   ]
  },
  {
   "cell_type": "markdown",
   "metadata": {},
   "source": [
    "### Data Preparation"
   ]
  },
  {
   "cell_type": "markdown",
   "metadata": {},
   "source": [
    "We cannot split data normally with `train_test_split` because doing that makes some parts of a sentence in the training set while some others in the testing set. Instead, we use `GroupShuffleSplit`."
   ]
  },
  {
   "cell_type": "code",
   "execution_count": 42,
   "metadata": {
    "execution": {
     "iopub.execute_input": "2024-02-25T10:09:54.900025Z",
     "iopub.status.busy": "2024-02-25T10:09:54.899121Z",
     "iopub.status.idle": "2024-02-25T10:09:54.956061Z",
     "shell.execute_reply": "2024-02-25T10:09:54.954977Z",
     "shell.execute_reply.started": "2024-02-25T10:09:54.899982Z"
    }
   },
   "outputs": [],
   "source": [
    "y = data.Tag\n",
    "X = data.drop('Tag', axis=1)"
   ]
  },
  {
   "cell_type": "code",
   "execution_count": 43,
   "metadata": {
    "execution": {
     "iopub.execute_input": "2024-02-25T10:10:00.217287Z",
     "iopub.status.busy": "2024-02-25T10:10:00.216934Z",
     "iopub.status.idle": "2024-02-25T10:10:02.050574Z",
     "shell.execute_reply": "2024-02-25T10:10:02.049520Z",
     "shell.execute_reply.started": "2024-02-25T10:10:00.217245Z"
    }
   },
   "outputs": [],
   "source": [
    "gs = GroupShuffleSplit(n_splits=2, test_size=.33, random_state=42)\n",
    "train_ix, test_ix = next(gs.split(X, y, groups=data['sentence']))"
   ]
  },
  {
   "cell_type": "code",
   "execution_count": 44,
   "metadata": {
    "execution": {
     "iopub.execute_input": "2024-02-25T10:10:05.648530Z",
     "iopub.status.busy": "2024-02-25T10:10:05.648232Z",
     "iopub.status.idle": "2024-02-25T10:10:05.758757Z",
     "shell.execute_reply": "2024-02-25T10:10:05.757808Z",
     "shell.execute_reply.started": "2024-02-25T10:10:05.648498Z"
    }
   },
   "outputs": [],
   "source": [
    "data_train = data.loc[train_ix]\n",
    "data_test = data.loc[test_ix]"
   ]
  },
  {
   "cell_type": "code",
   "execution_count": 45,
   "metadata": {
    "execution": {
     "iopub.execute_input": "2024-02-25T10:10:11.358315Z",
     "iopub.status.busy": "2024-02-25T10:10:11.358009Z",
     "iopub.status.idle": "2024-02-25T10:10:11.374390Z",
     "shell.execute_reply": "2024-02-25T10:10:11.373284Z",
     "shell.execute_reply.started": "2024-02-25T10:10:11.358283Z"
    }
   },
   "outputs": [
    {
     "data": {
      "text/html": [
       "<div>\n",
       "<style scoped>\n",
       "    .dataframe tbody tr th:only-of-type {\n",
       "        vertical-align: middle;\n",
       "    }\n",
       "\n",
       "    .dataframe tbody tr th {\n",
       "        vertical-align: top;\n",
       "    }\n",
       "\n",
       "    .dataframe thead th {\n",
       "        text-align: right;\n",
       "    }\n",
       "</style>\n",
       "<table border=\"1\" class=\"dataframe\">\n",
       "  <thead>\n",
       "    <tr style=\"text-align: right;\">\n",
       "      <th></th>\n",
       "      <th>sentence</th>\n",
       "      <th>Word</th>\n",
       "      <th>POS</th>\n",
       "      <th>Tag</th>\n",
       "    </tr>\n",
       "  </thead>\n",
       "  <tbody>\n",
       "    <tr>\n",
       "      <th>24</th>\n",
       "      <td>Sentence: 2</td>\n",
       "      <td>Families</td>\n",
       "      <td>NNS</td>\n",
       "      <td>O</td>\n",
       "    </tr>\n",
       "    <tr>\n",
       "      <th>25</th>\n",
       "      <td>Sentence: 2</td>\n",
       "      <td>of</td>\n",
       "      <td>IN</td>\n",
       "      <td>O</td>\n",
       "    </tr>\n",
       "    <tr>\n",
       "      <th>26</th>\n",
       "      <td>Sentence: 2</td>\n",
       "      <td>soldiers</td>\n",
       "      <td>NNS</td>\n",
       "      <td>O</td>\n",
       "    </tr>\n",
       "    <tr>\n",
       "      <th>27</th>\n",
       "      <td>Sentence: 2</td>\n",
       "      <td>killed</td>\n",
       "      <td>VBN</td>\n",
       "      <td>O</td>\n",
       "    </tr>\n",
       "    <tr>\n",
       "      <th>28</th>\n",
       "      <td>Sentence: 2</td>\n",
       "      <td>in</td>\n",
       "      <td>IN</td>\n",
       "      <td>O</td>\n",
       "    </tr>\n",
       "    <tr>\n",
       "      <th>...</th>\n",
       "      <td>...</td>\n",
       "      <td>...</td>\n",
       "      <td>...</td>\n",
       "      <td>...</td>\n",
       "    </tr>\n",
       "    <tr>\n",
       "      <th>1048570</th>\n",
       "      <td>Sentence: 47959</td>\n",
       "      <td>they</td>\n",
       "      <td>PRP</td>\n",
       "      <td>O</td>\n",
       "    </tr>\n",
       "    <tr>\n",
       "      <th>1048571</th>\n",
       "      <td>Sentence: 47959</td>\n",
       "      <td>responded</td>\n",
       "      <td>VBD</td>\n",
       "      <td>O</td>\n",
       "    </tr>\n",
       "    <tr>\n",
       "      <th>1048572</th>\n",
       "      <td>Sentence: 47959</td>\n",
       "      <td>to</td>\n",
       "      <td>TO</td>\n",
       "      <td>O</td>\n",
       "    </tr>\n",
       "    <tr>\n",
       "      <th>1048573</th>\n",
       "      <td>Sentence: 47959</td>\n",
       "      <td>the</td>\n",
       "      <td>DT</td>\n",
       "      <td>O</td>\n",
       "    </tr>\n",
       "    <tr>\n",
       "      <th>1048574</th>\n",
       "      <td>Sentence: 47959</td>\n",
       "      <td>attack</td>\n",
       "      <td>NN</td>\n",
       "      <td>O</td>\n",
       "    </tr>\n",
       "  </tbody>\n",
       "</table>\n",
       "<p>702936 rows × 4 columns</p>\n",
       "</div>"
      ],
      "text/plain": [
       "                sentence       Word  POS Tag\n",
       "24           Sentence: 2   Families  NNS   O\n",
       "25           Sentence: 2         of   IN   O\n",
       "26           Sentence: 2   soldiers  NNS   O\n",
       "27           Sentence: 2     killed  VBN   O\n",
       "28           Sentence: 2         in   IN   O\n",
       "...                  ...        ...  ...  ..\n",
       "1048570  Sentence: 47959       they  PRP   O\n",
       "1048571  Sentence: 47959  responded  VBD   O\n",
       "1048572  Sentence: 47959         to   TO   O\n",
       "1048573  Sentence: 47959        the   DT   O\n",
       "1048574  Sentence: 47959     attack   NN   O\n",
       "\n",
       "[702936 rows x 4 columns]"
      ]
     },
     "execution_count": 45,
     "metadata": {},
     "output_type": "execute_result"
    }
   ],
   "source": [
    "data_train"
   ]
  },
  {
   "cell_type": "code",
   "execution_count": 46,
   "metadata": {
    "execution": {
     "iopub.execute_input": "2024-02-25T10:10:24.385495Z",
     "iopub.status.busy": "2024-02-25T10:10:24.385180Z",
     "iopub.status.idle": "2024-02-25T10:10:24.481570Z",
     "shell.execute_reply": "2024-02-25T10:10:24.480386Z",
     "shell.execute_reply.started": "2024-02-25T10:10:24.385463Z"
    }
   },
   "outputs": [],
   "source": [
    "tags = list(set(data_train.Tag.values)) \n",
    "words = list(set(data_train.Word.values))"
   ]
  },
  {
   "cell_type": "code",
   "execution_count": 47,
   "metadata": {
    "execution": {
     "iopub.execute_input": "2024-02-25T10:10:37.689475Z",
     "iopub.status.busy": "2024-02-25T10:10:37.689133Z",
     "iopub.status.idle": "2024-02-25T10:10:38.088946Z",
     "shell.execute_reply": "2024-02-25T10:10:38.087273Z",
     "shell.execute_reply.started": "2024-02-25T10:10:37.689440Z"
    }
   },
   "outputs": [],
   "source": [
    "dfupdate = data_train.sample(frac=.15, replace=False, random_state=42)\n",
    "dfupdate.Word = 'UNKNOWN'\n",
    "data_train.update(dfupdate)"
   ]
  },
  {
   "cell_type": "code",
   "execution_count": 48,
   "metadata": {
    "execution": {
     "iopub.execute_input": "2024-02-25T10:10:48.188306Z",
     "iopub.status.busy": "2024-02-25T10:10:48.188000Z",
     "iopub.status.idle": "2024-02-25T10:10:48.263309Z",
     "shell.execute_reply": "2024-02-25T10:10:48.262164Z",
     "shell.execute_reply.started": "2024-02-25T10:10:48.188273Z"
    }
   },
   "outputs": [],
   "source": [
    "words = list(set(data_train.Word.values))\n",
    "word2id = {w: i for i, w in enumerate(words)}\n",
    "tag2id = {t: i for i, t in enumerate(tags)}\n",
    "id2tag = {i: t for i, t in enumerate(tags)}"
   ]
  },
  {
   "cell_type": "markdown",
   "metadata": {},
   "source": [
    "### Model Parameter Estimation"
   ]
  },
  {
   "cell_type": "markdown",
   "metadata": {},
   "source": [
    "Hidden Markov Models can be trained by using the Baum-Welch algorithm.\n",
    "- `startprob_`\n",
    "- `transmat_`\n",
    "- `emissionprob_`"
   ]
  },
  {
   "cell_type": "code",
   "execution_count": 49,
   "metadata": {
    "execution": {
     "iopub.execute_input": "2024-02-25T10:11:20.509057Z",
     "iopub.status.busy": "2024-02-25T10:11:20.508397Z",
     "iopub.status.idle": "2024-02-25T10:11:21.451811Z",
     "shell.execute_reply": "2024-02-25T10:11:21.450818Z",
     "shell.execute_reply.started": "2024-02-25T10:11:20.509020Z"
    }
   },
   "outputs": [],
   "source": [
    "count_tags = dict(data_train.Tag.value_counts())\n",
    "count_tags_to_words = data_train.groupby(['Tag']).apply(lambda grp: grp.groupby('Word')['Tag'].count().to_dict()).to_dict()\n",
    "count_init_tags = dict(data_train.groupby('sentence').first().Tag.value_counts())"
   ]
  },
  {
   "cell_type": "code",
   "execution_count": 50,
   "metadata": {
    "execution": {
     "iopub.execute_input": "2024-02-25T10:11:30.532518Z",
     "iopub.status.busy": "2024-02-25T10:11:30.532190Z",
     "iopub.status.idle": "2024-02-25T10:11:32.317257Z",
     "shell.execute_reply": "2024-02-25T10:11:32.316250Z",
     "shell.execute_reply.started": "2024-02-25T10:11:30.532480Z"
    }
   },
   "outputs": [],
   "source": [
    "count_tags_to_next_tags = np.zeros((len(tags), len(tags)), dtype=int)\n",
    "sentences = list(data_train.sentence)\n",
    "pos = list(data_train.Tag)\n",
    "for i in range(len(sentences)) :\n",
    "    if (i > 0) and (sentences[i] == sentences[i - 1]):\n",
    "        prevtagid = tag2id[pos[i - 1]]\n",
    "        nexttagid = tag2id[pos[i]]\n",
    "        count_tags_to_next_tags[prevtagid][nexttagid] += 1"
   ]
  },
  {
   "cell_type": "markdown",
   "metadata": {},
   "source": [
    "#### Calculating Probablites"
   ]
  },
  {
   "cell_type": "code",
   "execution_count": 51,
   "metadata": {
    "execution": {
     "iopub.execute_input": "2024-02-25T10:11:54.539379Z",
     "iopub.status.busy": "2024-02-25T10:11:54.538546Z",
     "iopub.status.idle": "2024-02-25T10:11:55.150336Z",
     "shell.execute_reply": "2024-02-25T10:11:55.149223Z",
     "shell.execute_reply.started": "2024-02-25T10:11:54.539315Z"
    }
   },
   "outputs": [],
   "source": [
    "mystartprob = np.zeros((len(tags),))\n",
    "mytransmat = np.zeros((len(tags), len(tags)))\n",
    "myemissionprob = np.zeros((len(tags), len(words)))\n",
    "num_sentences = sum(count_init_tags.values())\n",
    "sum_tags_to_next_tags = np.sum(count_tags_to_next_tags, axis=1)\n",
    "for tag, tagid in tag2id.items():\n",
    "    floatCountTag = float(count_tags.get(tag, 0))\n",
    "    mystartprob[tagid] = count_init_tags.get(tag, 0) / num_sentences\n",
    "    for word, wordid in word2id.items():\n",
    "        myemissionprob[tagid][wordid]= count_tags_to_words.get(tag, {}).get(word, 0) / floatCountTag\n",
    "    for tag2, tagid2 in tag2id.items():\n",
    "        mytransmat[tagid][tagid2]= count_tags_to_next_tags[tagid][tagid2] / sum_tags_to_next_tags[tagid]"
   ]
  },
  {
   "cell_type": "code",
   "execution_count": 52,
   "metadata": {
    "execution": {
     "iopub.execute_input": "2024-02-25T10:11:59.736341Z",
     "iopub.status.busy": "2024-02-25T10:11:59.736011Z",
     "iopub.status.idle": "2024-02-25T10:11:59.742665Z",
     "shell.execute_reply": "2024-02-25T10:11:59.742006Z",
     "shell.execute_reply.started": "2024-02-25T10:11:59.736304Z"
    }
   },
   "outputs": [
    {
     "data": {
      "text/plain": [
       "array([7.16419768e-01, 0.00000000e+00, 0.00000000e+00, 0.00000000e+00,\n",
       "       6.27100710e-02, 3.42337856e-04, 8.25967882e-02, 0.00000000e+00,\n",
       "       0.00000000e+00, 2.48972986e-04, 0.00000000e+00, 0.00000000e+00,\n",
       "       6.89966389e-02, 0.00000000e+00, 5.80418275e-02, 2.17851363e-04,\n",
       "       1.04257438e-02])"
      ]
     },
     "execution_count": 52,
     "metadata": {},
     "output_type": "execute_result"
    }
   ],
   "source": [
    "mystartprob"
   ]
  },
  {
   "cell_type": "code",
   "execution_count": 53,
   "metadata": {
    "execution": {
     "iopub.execute_input": "2024-02-25T10:12:06.694923Z",
     "iopub.status.busy": "2024-02-25T10:12:06.694620Z",
     "iopub.status.idle": "2024-02-25T10:12:06.708153Z",
     "shell.execute_reply": "2024-02-25T10:12:06.706920Z",
     "shell.execute_reply.started": "2024-02-25T10:12:06.694892Z"
    }
   },
   "outputs": [
    {
     "data": {
      "text/plain": [
       "array([[8.89746990e-01, 0.00000000e+00, 0.00000000e+00, 0.00000000e+00,\n",
       "        1.48244413e-02, 4.33193256e-04, 1.28715209e-02, 0.00000000e+00,\n",
       "        0.00000000e+00, 3.00039591e-04, 0.00000000e+00, 0.00000000e+00,\n",
       "        4.03011758e-02, 0.00000000e+00, 1.93978259e-02, 2.20147392e-04,\n",
       "        2.19046655e-02],\n",
       "       [8.70028124e-01, 1.05062274e-01, 0.00000000e+00, 0.00000000e+00,\n",
       "        4.01767778e-04, 2.00883889e-04, 3.01325834e-03, 0.00000000e+00,\n",
       "        0.00000000e+00, 0.00000000e+00, 0.00000000e+00, 0.00000000e+00,\n",
       "        0.00000000e+00, 0.00000000e+00, 1.80795500e-03, 0.00000000e+00,\n",
       "        1.94857372e-02],\n",
       "       [7.18293954e-01, 0.00000000e+00, 2.71195274e-01, 0.00000000e+00,\n",
       "        0.00000000e+00, 0.00000000e+00, 0.00000000e+00, 0.00000000e+00,\n",
       "        0.00000000e+00, 0.00000000e+00, 0.00000000e+00, 0.00000000e+00,\n",
       "        8.68658791e-05, 0.00000000e+00, 6.94927033e-04, 0.00000000e+00,\n",
       "        9.72897846e-03],\n",
       "       [6.95121951e-01, 0.00000000e+00, 0.00000000e+00, 2.92682927e-01,\n",
       "        0.00000000e+00, 0.00000000e+00, 0.00000000e+00, 0.00000000e+00,\n",
       "        0.00000000e+00, 0.00000000e+00, 0.00000000e+00, 0.00000000e+00,\n",
       "        0.00000000e+00, 0.00000000e+00, 0.00000000e+00, 0.00000000e+00,\n",
       "        1.21951220e-02],\n",
       "       [8.69222097e-01, 0.00000000e+00, 0.00000000e+00, 0.00000000e+00,\n",
       "        0.00000000e+00, 9.39496430e-05, 8.25817362e-02, 1.28711011e-02,\n",
       "        0.00000000e+00, 0.00000000e+00, 0.00000000e+00, 0.00000000e+00,\n",
       "        7.70387073e-03, 0.00000000e+00, 2.57422022e-02, 0.00000000e+00,\n",
       "        1.78504322e-03],\n",
       "       [5.54716981e-01, 0.00000000e+00, 0.00000000e+00, 0.00000000e+00,\n",
       "        0.00000000e+00, 0.00000000e+00, 3.77358491e-03, 0.00000000e+00,\n",
       "        0.00000000e+00, 0.00000000e+00, 0.00000000e+00, 0.00000000e+00,\n",
       "        0.00000000e+00, 4.11320755e-01, 1.13207547e-02, 0.00000000e+00,\n",
       "        1.88679245e-02],\n",
       "       [2.18449599e-01, 0.00000000e+00, 7.40717876e-01, 0.00000000e+00,\n",
       "        3.35126554e-03, 0.00000000e+00, 0.00000000e+00, 0.00000000e+00,\n",
       "        0.00000000e+00, 0.00000000e+00, 0.00000000e+00, 0.00000000e+00,\n",
       "        1.47279302e-02, 0.00000000e+00, 2.01957845e-02, 8.81911985e-05,\n",
       "        2.46935356e-03],\n",
       "       [8.74125874e-01, 0.00000000e+00, 0.00000000e+00, 0.00000000e+00,\n",
       "        0.00000000e+00, 0.00000000e+00, 7.69230769e-02, 4.19580420e-02,\n",
       "        0.00000000e+00, 0.00000000e+00, 0.00000000e+00, 0.00000000e+00,\n",
       "        6.99300699e-03, 0.00000000e+00, 0.00000000e+00, 0.00000000e+00,\n",
       "        0.00000000e+00],\n",
       "       [9.00000000e-01, 0.00000000e+00, 0.00000000e+00, 0.00000000e+00,\n",
       "        0.00000000e+00, 0.00000000e+00, 3.33333333e-02, 0.00000000e+00,\n",
       "        6.66666667e-02, 0.00000000e+00, 0.00000000e+00, 0.00000000e+00,\n",
       "        0.00000000e+00, 0.00000000e+00, 0.00000000e+00, 0.00000000e+00,\n",
       "        0.00000000e+00],\n",
       "       [4.06091371e-01, 0.00000000e+00, 0.00000000e+00, 5.88832487e-01,\n",
       "        0.00000000e+00, 0.00000000e+00, 0.00000000e+00, 0.00000000e+00,\n",
       "        0.00000000e+00, 0.00000000e+00, 0.00000000e+00, 0.00000000e+00,\n",
       "        0.00000000e+00, 0.00000000e+00, 0.00000000e+00, 0.00000000e+00,\n",
       "        5.07614213e-03],\n",
       "       [5.27861848e-01, 0.00000000e+00, 0.00000000e+00, 0.00000000e+00,\n",
       "        2.49243368e-03, 0.00000000e+00, 1.98504540e-02, 0.00000000e+00,\n",
       "        0.00000000e+00, 0.00000000e+00, 4.32971337e-01, 0.00000000e+00,\n",
       "        1.42424782e-03, 0.00000000e+00, 0.00000000e+00, 0.00000000e+00,\n",
       "        1.53996795e-02],\n",
       "       [6.90530131e-01, 0.00000000e+00, 0.00000000e+00, 0.00000000e+00,\n",
       "        1.58586316e-03, 0.00000000e+00, 2.49207068e-03, 0.00000000e+00,\n",
       "        0.00000000e+00, 1.58586316e-03, 0.00000000e+00, 2.94517444e-01,\n",
       "        7.92931581e-03, 0.00000000e+00, 1.35931128e-03, 0.00000000e+00,\n",
       "        0.00000000e+00],\n",
       "       [7.94497229e-01, 1.76484561e-01, 0.00000000e+00, 0.00000000e+00,\n",
       "        4.15676960e-03, 0.00000000e+00, 2.85035629e-03, 0.00000000e+00,\n",
       "        0.00000000e+00, 3.95882819e-05, 0.00000000e+00, 0.00000000e+00,\n",
       "        0.00000000e+00, 0.00000000e+00, 1.38558987e-03, 0.00000000e+00,\n",
       "        2.05859066e-02],\n",
       "       [6.06936416e-01, 0.00000000e+00, 0.00000000e+00, 0.00000000e+00,\n",
       "        0.00000000e+00, 0.00000000e+00, 1.15606936e-02, 0.00000000e+00,\n",
       "        0.00000000e+00, 0.00000000e+00, 0.00000000e+00, 0.00000000e+00,\n",
       "        0.00000000e+00, 3.69942197e-01, 0.00000000e+00, 0.00000000e+00,\n",
       "        1.15606936e-02],\n",
       "       [4.97683109e-01, 0.00000000e+00, 0.00000000e+00, 0.00000000e+00,\n",
       "        5.68011958e-03, 3.73692078e-04, 1.49476831e-02, 0.00000000e+00,\n",
       "        0.00000000e+00, 1.49476831e-04, 4.76457399e-01, 0.00000000e+00,\n",
       "        8.96860987e-04, 0.00000000e+00, 0.00000000e+00, 0.00000000e+00,\n",
       "        3.81165919e-03],\n",
       "       [7.80303030e-01, 0.00000000e+00, 0.00000000e+00, 0.00000000e+00,\n",
       "        0.00000000e+00, 0.00000000e+00, 0.00000000e+00, 0.00000000e+00,\n",
       "        2.12121212e-01, 0.00000000e+00, 0.00000000e+00, 0.00000000e+00,\n",
       "        7.57575758e-03, 0.00000000e+00, 0.00000000e+00, 0.00000000e+00,\n",
       "        0.00000000e+00],\n",
       "       [7.61915205e-01, 0.00000000e+00, 0.00000000e+00, 0.00000000e+00,\n",
       "        1.68128655e-03, 2.19298246e-04, 1.60818713e-03, 0.00000000e+00,\n",
       "        0.00000000e+00, 7.30994152e-04, 0.00000000e+00, 2.27923977e-01,\n",
       "        4.02046784e-03, 0.00000000e+00, 1.90058480e-03, 0.00000000e+00,\n",
       "        0.00000000e+00]])"
      ]
     },
     "execution_count": 53,
     "metadata": {},
     "output_type": "execute_result"
    }
   ],
   "source": [
    "mytransmat"
   ]
  },
  {
   "cell_type": "code",
   "execution_count": 54,
   "metadata": {
    "execution": {
     "iopub.execute_input": "2024-02-25T10:12:17.083297Z",
     "iopub.status.busy": "2024-02-25T10:12:17.082967Z",
     "iopub.status.idle": "2024-02-25T10:12:17.091904Z",
     "shell.execute_reply": "2024-02-25T10:12:17.090758Z",
     "shell.execute_reply.started": "2024-02-25T10:12:17.083259Z"
    }
   },
   "outputs": [
    {
     "data": {
      "text/plain": [
       "array([[0.00000000e+00, 0.00000000e+00, 1.67972090e-06, ...,\n",
       "        0.00000000e+00, 0.00000000e+00, 0.00000000e+00],\n",
       "       [0.00000000e+00, 0.00000000e+00, 0.00000000e+00, ...,\n",
       "        0.00000000e+00, 0.00000000e+00, 0.00000000e+00],\n",
       "       [0.00000000e+00, 8.67980210e-05, 0.00000000e+00, ...,\n",
       "        0.00000000e+00, 0.00000000e+00, 0.00000000e+00],\n",
       "       ...,\n",
       "       [0.00000000e+00, 0.00000000e+00, 0.00000000e+00, ...,\n",
       "        0.00000000e+00, 0.00000000e+00, 0.00000000e+00],\n",
       "       [0.00000000e+00, 0.00000000e+00, 0.00000000e+00, ...,\n",
       "        0.00000000e+00, 0.00000000e+00, 0.00000000e+00],\n",
       "       [4.38500329e-04, 0.00000000e+00, 0.00000000e+00, ...,\n",
       "        0.00000000e+00, 0.00000000e+00, 0.00000000e+00]])"
      ]
     },
     "execution_count": 54,
     "metadata": {},
     "output_type": "execute_result"
    }
   ],
   "source": [
    "myemissionprob"
   ]
  },
  {
   "cell_type": "markdown",
   "metadata": {},
   "source": [
    "### HMM"
   ]
  },
  {
   "cell_type": "code",
   "execution_count": 55,
   "metadata": {
    "execution": {
     "iopub.execute_input": "2024-02-25T10:12:25.997360Z",
     "iopub.status.busy": "2024-02-25T10:12:25.997049Z",
     "iopub.status.idle": "2024-02-25T10:12:26.002702Z",
     "shell.execute_reply": "2024-02-25T10:12:26.001666Z",
     "shell.execute_reply.started": "2024-02-25T10:12:25.997327Z"
    }
   },
   "outputs": [],
   "source": [
    "model = hmm.MultinomialHMM(n_components=len(tags), algorithm='viterbi', random_state=42)\n",
    "model.startprob_ = mystartprob\n",
    "model.transmat_ = mytransmat\n",
    "model.emissionprob_ = myemissionprob"
   ]
  },
  {
   "cell_type": "code",
   "execution_count": 56,
   "metadata": {
    "execution": {
     "iopub.execute_input": "2024-02-25T10:12:38.882631Z",
     "iopub.status.busy": "2024-02-25T10:12:38.881750Z",
     "iopub.status.idle": "2024-02-25T10:12:38.941314Z",
     "shell.execute_reply": "2024-02-25T10:12:38.940343Z",
     "shell.execute_reply.started": "2024-02-25T10:12:38.882557Z"
    }
   },
   "outputs": [],
   "source": [
    "data_test.loc[~data_test['Word'].isin(words), 'Word'] = 'UNKNOWN'"
   ]
  },
  {
   "cell_type": "code",
   "execution_count": 57,
   "metadata": {
    "execution": {
     "iopub.execute_input": "2024-02-25T10:12:48.421553Z",
     "iopub.status.busy": "2024-02-25T10:12:48.421222Z",
     "iopub.status.idle": "2024-02-25T10:12:49.510338Z",
     "shell.execute_reply": "2024-02-25T10:12:49.509345Z",
     "shell.execute_reply.started": "2024-02-25T10:12:48.421517Z"
    }
   },
   "outputs": [],
   "source": [
    "word_test = list(data_test.Word)\n",
    "samples = []\n",
    "for i, val in enumerate(word_test):\n",
    "    samples.append([word2id[val]])"
   ]
  },
  {
   "cell_type": "code",
   "execution_count": 58,
   "metadata": {
    "execution": {
     "iopub.execute_input": "2024-02-25T10:12:56.977689Z",
     "iopub.status.busy": "2024-02-25T10:12:56.976796Z",
     "iopub.status.idle": "2024-02-25T10:12:56.984826Z",
     "shell.execute_reply": "2024-02-25T10:12:56.983757Z",
     "shell.execute_reply.started": "2024-02-25T10:12:56.977642Z"
    }
   },
   "outputs": [
    {
     "data": {
      "text/plain": [
       "345639"
      ]
     },
     "execution_count": 58,
     "metadata": {},
     "output_type": "execute_result"
    }
   ],
   "source": [
    "len(samples)"
   ]
  },
  {
   "cell_type": "code",
   "execution_count": 59,
   "metadata": {
    "execution": {
     "iopub.execute_input": "2024-02-25T10:13:00.736414Z",
     "iopub.status.busy": "2024-02-25T10:13:00.736125Z",
     "iopub.status.idle": "2024-02-25T10:13:00.947593Z",
     "shell.execute_reply": "2024-02-25T10:13:00.946558Z",
     "shell.execute_reply.started": "2024-02-25T10:13:00.736383Z"
    }
   },
   "outputs": [],
   "source": [
    "lengths = []\n",
    "count = 0\n",
    "sentences = list(data_test.sentence)\n",
    "for i in range(len(sentences)) :\n",
    "    if (i > 0) and (sentences[i] == sentences[i - 1]):\n",
    "        count += 1\n",
    "    elif i > 0:\n",
    "        lengths.append(count)\n",
    "        count = 1\n",
    "    else:\n",
    "        count = 1"
   ]
  },
  {
   "cell_type": "code",
   "execution_count": 60,
   "metadata": {
    "execution": {
     "iopub.execute_input": "2024-02-25T10:13:01.944231Z",
     "iopub.status.busy": "2024-02-25T10:13:01.943874Z",
     "iopub.status.idle": "2024-02-25T10:13:01.951039Z",
     "shell.execute_reply": "2024-02-25T10:13:01.949925Z",
     "shell.execute_reply.started": "2024-02-25T10:13:01.944195Z"
    }
   },
   "outputs": [
    {
     "data": {
      "text/plain": [
       "15826"
      ]
     },
     "execution_count": 60,
     "metadata": {},
     "output_type": "execute_result"
    }
   ],
   "source": [
    "len(lengths)"
   ]
  },
  {
   "cell_type": "markdown",
   "metadata": {},
   "source": [
    "### HMM - Prediction"
   ]
  },
  {
   "cell_type": "code",
   "execution_count": 61,
   "metadata": {
    "execution": {
     "iopub.execute_input": "2024-02-25T10:13:15.752266Z",
     "iopub.status.busy": "2024-02-25T10:13:15.751914Z",
     "iopub.status.idle": "2024-02-25T10:14:36.227225Z",
     "shell.execute_reply": "2024-02-25T10:14:36.226204Z",
     "shell.execute_reply.started": "2024-02-25T10:13:15.752224Z"
    }
   },
   "outputs": [],
   "source": [
    "ner_predict = model.predict(samples, lengths)"
   ]
  },
  {
   "cell_type": "code",
   "execution_count": 62,
   "metadata": {
    "execution": {
     "iopub.execute_input": "2024-02-25T10:14:36.300856Z",
     "iopub.status.busy": "2024-02-25T10:14:36.300177Z",
     "iopub.status.idle": "2024-02-25T10:14:36.307117Z",
     "shell.execute_reply": "2024-02-25T10:14:36.306150Z",
     "shell.execute_reply.started": "2024-02-25T10:14:36.300817Z"
    }
   },
   "outputs": [
    {
     "data": {
      "text/plain": [
       "array([ 0,  0,  0, ..., 12,  0,  0], dtype=int32)"
      ]
     },
     "execution_count": 62,
     "metadata": {},
     "output_type": "execute_result"
    }
   ],
   "source": [
    "ner_predict"
   ]
  },
  {
   "cell_type": "markdown",
   "metadata": {},
   "source": [
    "### Testing"
   ]
  },
  {
   "cell_type": "code",
   "execution_count": 64,
   "metadata": {
    "execution": {
     "iopub.execute_input": "2024-02-25T10:14:46.817466Z",
     "iopub.status.busy": "2024-02-25T10:14:46.817136Z",
     "iopub.status.idle": "2024-02-25T10:14:47.156210Z",
     "shell.execute_reply": "2024-02-25T10:14:47.155221Z",
     "shell.execute_reply.started": "2024-02-25T10:14:46.817431Z"
    }
   },
   "outputs": [
    {
     "name": "stdout",
     "output_type": "stream",
     "text": [
      "The accuracy is 0.9560956555705048\n",
      "The precision is 0.9544313510538452\n",
      "The recall is 0.9560956555705048\n",
      "The F1-Score is 0.9547968981401819\n"
     ]
    }
   ],
   "source": [
    "def reportTest(y_pred, y_test):\n",
    "    print(\"The accuracy is {}\".format(accuracy_score(y_test, y_pred))) \n",
    "    print(\"The precision is {}\".format(precision_score(y_test, y_pred, average='weighted'))) \n",
    "    print(\"The recall is {}\".format(recall_score(y_test, y_pred, average='weighted'))) \n",
    "    print(\"The F1-Score is {}\".format(f1_score(y_test, y_pred, average='weighted')))\n",
    "\n",
    "min_length = min(len(pos_predict), len(pos_test))\n",
    "\n",
    "reportTest(pos_predict[:min_length], pos_test[:min_length])"
   ]
  }
 ],
 "metadata": {
  "kaggle": {
   "accelerator": "none",
   "dataSources": [
    {
     "datasetId": 1232095,
     "sourceId": 2056195,
     "sourceType": "datasetVersion"
    }
   ],
   "dockerImageVersionId": 30138,
   "isGpuEnabled": false,
   "isInternetEnabled": true,
   "language": "python",
   "sourceType": "notebook"
  },
  "kernelspec": {
   "display_name": "Python 3 (ipykernel)",
   "language": "python",
   "name": "python3"
  },
  "language_info": {
   "codemirror_mode": {
    "name": "ipython",
    "version": 3
   },
   "file_extension": ".py",
   "mimetype": "text/x-python",
   "name": "python",
   "nbconvert_exporter": "python",
   "pygments_lexer": "ipython3",
   "version": "3.11.4"
  }
 },
 "nbformat": 4,
 "nbformat_minor": 4
}
